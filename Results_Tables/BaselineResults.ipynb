{
 "cells": [
  {
   "cell_type": "markdown",
   "id": "8b4991af-fe0f-4962-8a80-93cc4fd0b826",
   "metadata": {},
   "source": [
    "# Evaluation Results for Baseline Classifier with TF-IDF and Passive-Aggressive Classifier"
   ]
  },
  {
   "cell_type": "markdown",
   "id": "da45b378-35ca-4c95-811e-a809f242aea4",
   "metadata": {},
   "source": [
    "### Results for Full-Scale Evaluation Scenario\n",
    "\n",
    "| Dataset         | Split   | Accuracy | Macro Precision | Macro Recall | Macro F1-score |\n",
    "|-----------------|-------|----------|-------------------|----------------|----------------|\n",
    "| WELFake         | Val   | 0.9450   | 0.9420            | 0.9453         | 0.9435         |\n",
    "| WELFake         | Test  | 0.9455   | 0.9394            | 0.9465         | 0.9426         |\n",
    "| Fakeddit        | Val   | 0.8164   | 0.8141            | 0.8129         | 0.8135         |\n",
    "| Fakeddit        | Test  | 0.8157   | 0.8131            | 0.8122         | 0.8126         |\n",
    "| Constraint      | Val   | 0.9384   | 0.9389            | 0.9378         | 0.9382         |\n",
    "| Constraint      | Test  | 0.9416   | 0.9419            | 0.9410         | 0.9414         |\n",
    "| PolitiFact      | Val   | 0.8942   | 0.8922            | 0.8989         | 0.8934         |\n",
    "| PolitiFact      | Test  | 0.8889   | 0.8898            | 0.8898         | 0.8889         |\n",
    "| GossipCop       | Val   | 0.8304   | 0.7656            | 0.7387         | 0.7503         |\n",
    "| GossipCop       | Test  | 0.8218   | 0.7551            | 0.7278         | 0.7394         |\n",
    "| All-Four        | Val   | 0.8878   | 0.8815            | 0.8831         | 0.8823         |\n",
    "| All-Four        | Test  | 0.8880   | 0.8777            | 0.8824         | 0.8799         |\n"
   ]
  },
  {
   "cell_type": "markdown",
   "id": "3b0836e6-1b80-43cc-a906-ece1a26dcba9",
   "metadata": {},
   "source": [
    "### Results for Five-Shot Evaluation Scenario\n",
    "\n",
    "| Dataset                     | Split   | Accuracy | Macro Precision | Macro Recall | Macro F1-score |\n",
    "|-----------------------------|-------|----------|-------------------|----------------|----------------|\n",
    "| Five-Shot WELFake target           | Val   | 0.6225   | 0.6062            | 0.5990         | 0.5995         |\n",
    "| Five-Shot WELFake target          | Test  | 0.6380   | 0.6100            | 0.6040         | 0.6056         |\n",
    "| Five-Shot Constraint target      | Val   | 0.5108   | 0.5334            | 0.5239         | 0.4801         |\n",
    "| Five-Shot Constraint target       | Test  | 0.5094   | 0.5296            | 0.5222         | 0.4833         |\n",
    "| Five-Shot PolitiFact target       | Val   | 0.6346   | 0.6334            | 0.6358         | 0.6324         |\n",
    "| Five-Shot PolitiFact target        | Test  | 0.5952   | 0.5947            | 0.5946         | 0.5946         |\n",
    "| Five-Shot GossipCop target         | Val   | 0.4312   | 0.5524            | 0.5605         | 0.4293         |\n",
    "| Five-Shot GossipCop target         | Test  | 0.4483   | 0.5740            | 0.5840         | 0.4468         |"
   ]
  },
  {
   "cell_type": "markdown",
   "id": "1d746a02-6e5a-4b86-8123-49ed370abf57",
   "metadata": {},
   "source": [
    "### Results for Zero-Shot Evaluation Scenario\n",
    "\n",
    "| Dataset                    | Split   | Accuracy | Macro Precision | Macro Recall | Macro F1-score |\n",
    "|----------------------------|-------|----------|-------------------|----------------|----------------|\n",
    "| Zero-Shot WELFake target   | Val   | 0.6188   | 0.6020            | 0.5952         | 0.5956         |\n",
    "| Zero-Shot WELFake target   | Test  | 0.6390   | 0.6112            | 0.6050         | 0.6067         |\n",
    "| Zero-Shot Constraint target      | Val   | 0.4821   | 0.4924            | 0.4942         | 0.4551         |\n",
    "| Zero-Shot Constraint target      | Test  | 0.4807   | 0.4904            | 0.4924         | 0.4578         |\n",
    "| Zero-Shot PolitiFact target      | Val   | 0.6442   | 0.6419            | 0.6443         | 0.6415         |\n",
    "| Zero-Shot PolitiFact target      | Test  | 0.6032   | 0.6026            | 0.6023         | 0.6023         |\n",
    "| Zero-Shot GossipCop target       | Val   | 0.4316   | 0.5531            | 0.5613         | 0.4297         |\n",
    "| Zero-Shot GossipCop target       | Test  | 0.4420   | 0.5673            | 0.5762         | 0.4406         |"
   ]
  }
 ],
 "metadata": {
  "kernelspec": {
   "display_name": "Python 3 (ipykernel)",
   "language": "python",
   "name": "python3"
  },
  "language_info": {
   "codemirror_mode": {
    "name": "ipython",
    "version": 3
   },
   "file_extension": ".py",
   "mimetype": "text/x-python",
   "name": "python",
   "nbconvert_exporter": "python",
   "pygments_lexer": "ipython3",
   "version": "3.9.6"
  }
 },
 "nbformat": 4,
 "nbformat_minor": 5
}
