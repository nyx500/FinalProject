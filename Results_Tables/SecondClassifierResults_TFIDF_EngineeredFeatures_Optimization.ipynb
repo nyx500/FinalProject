{
 "cells": [
  {
   "cell_type": "markdown",
   "id": "2d020dba-a2f8-41bf-aa83-1ade0ab791aa",
   "metadata": {},
   "source": [
    "## WELFake\n",
    "\n",
    "| Dataset Name + Hyperparameter Tuning       | Accuracy | Precision (Macro) | Recall (Macro) | Macro F1-score |\n",
    "|--------------------------------------------|----------|-------------------|---------------|---------------|\n",
    "| **Validation + Optimized Hyperparameters** | **0.9645**   | **0.9621**            | **0.9652**        | **0.9636**        |\n",
    "| **Test + Optimized Hyperparameters**       | **0.9652**   | **0.9606**            | **0.9663**        | **0.9633**        |\n",
    "| Validation + No Hyperparameter Tuning      | 0.9635   | 0.9618            | 0.9632        | 0.9625        |\n",
    "| Test + No Hyperparameter Tuning            | 0.9661   | 0.9634            | 0.9647        | 0.9640        |\n"
   ]
  },
  {
   "cell_type": "markdown",
   "id": "97d6d224-1dc6-4c0c-83d7-a684b3ca5024",
   "metadata": {},
   "source": [
    "## Fakeddit\n",
    "\n",
    "| Dataset Name + Hyperparameter Tuning       | Accuracy | Precision (Macro) | Recall (Macro) | Macro F1-score |\n",
    "|--------------------------------------------|----------|-------------------|---------------|---------------|\n",
    "| Validation + Optimized Hyperparameters     | 0.8423   | 0.8418            | 0.8375        | 0.8392        |\n",
    "| Test + Optimized Hyperparameters           | 0.8434   | 0.8423            | 0.8387        | 0.8402        |\n",
    "| **Validation + No Hyperparameter Tuning**  | **0.8630**   | **0.8627**            | **0.8588**        | **0.8604**        |\n",
    "| **Test + No Hyperparameter Tuning**        | **0.8638**   | **0.8630**            | **0.8597**        | **0.8611**        |\n"
   ]
  },
  {
   "cell_type": "markdown",
   "id": "ad23f64e-0681-4d7c-ad6e-ec218854f5e9",
   "metadata": {},
   "source": [
    "## Constraint\n",
    "\n",
    "| Dataset Name + Hyperparameter Tuning       | Accuracy | Precision (Macro) | Recall (Macro) | Macro F1-score |\n",
    "|--------------------------------------------|----------|-------------------|---------------|---------------|\n",
    "| **Validation + Optimized Hyperparameters** | **0.9474**   | **0.9479**            | **0.9467**        | **0.9472**        |\n",
    "| **Test + Optimized Hyperparameters**       | **0.9467**   | **0.9469**            | **0.9463**        | **0.9466**        |\n",
    "| Validation + No Hyperparameter Tuning      | 0.9295   | 0.9342            | 0.9272        | 0.9289        |\n",
    "| Test + No Hyperparameter Tuning            | 0.9340   | 0.9375            | 0.9320        | 0.9335        |\n"
   ]
  },
  {
   "cell_type": "markdown",
   "id": "f1c3269d-51c4-4cd0-aa69-630044495cf7",
   "metadata": {},
   "source": [
    "## PolitiFact\n",
    "\n",
    "| Dataset Name + Hyperparameter Tuning       | Accuracy | Precision (Macro) | Recall (Macro) | Macro F1-score |\n",
    "|--------------------------------------------|----------|-------------------|---------------|---------------|\n",
    "| **Validation + Optimized Hyperparameters** | **0.8846**   | **0.8861**            | **0.8930**        | **0.8842**        |\n",
    "| Test + Optimized Hyperparameters      | 0.8413   | 0.8459            | 0.8431**        | 0.8411        |\n",
    "| Validation + No Hyperparameter Tuning      | 0.8654   | 0.8642            | 0.8708        | 0.8646        |\n",
    "| **Test + No Hyperparameter Tuning**            | **0.8651**   | **0.8667**            | **0.8662**        | **0.8651**        |\n"
   ]
  },
  {
   "cell_type": "markdown",
   "id": "fc7f0804-71b5-4ef3-bfc9-b56ce841f036",
   "metadata": {},
   "source": [
    "## GossipCop\n",
    "\n",
    "| Dataset Name + Hyperparameter Tuning       | Accuracy | Precision (Macro) | Recall (Macro) | Macro F1-score |\n",
    "|--------------------------------------------|----------|-------------------|---------------|---------------|\n",
    "| **Validation + Optimized Hyperparameters | 0.8510   | 0.8052            | 0.7509        | 0.7719        |\n",
    "| Test + Optimized Hyperparameters      |  0.8403   | 0.7872           | 0.7440       | 0.7613      |\n",
    "| **Validation + No Hyperparameter Tuning**      | **0.8616**  | **0.8404**          | **0.7459**     | **0.7773**     |\n",
    "| **Test + No Hyperparameter Tuning**            | **0.8540**  | **0.8226**            | **0.7443**       | **0.7716**       |\n"
   ]
  },
  {
   "cell_type": "markdown",
   "id": "3245e134-604a-4d61-8f56-d679b29eca26",
   "metadata": {},
   "source": [
    "## All-Four Combined\n",
    "\n",
    "| Dataset Name + Hyperparameter Tuning       | Accuracy | Precision (Macro) | Recall (Macro) | Macro F1-score |\n",
    "|--------------------------------------------|----------|-------------------|---------------|---------------|\n",
    "| Validation + Optimized Hyperparameters     | 0.8998   | 0.8937            | 0.8968        | 0.8951        |\n",
    "| Test + Optimized Hyperparameters           | 0.9007   | 0.8913            | 0.8960        | 0.8935        |\n",
    "| **Validation + No Hyperparameter Tuning**  | **0.9254**  | **0.9237**        | **0.9188**    | **0.9211**    |\n",
    "| **Test + No Hyperparameter Tuning**       | **0.9267**  | **0.9233**        | **0.9178**    | **0.9204**    |\n"
   ]
  },
  {
   "cell_type": "markdown",
   "id": "3bd7051e-1ee4-43fc-aaa2-0fcecb667804",
   "metadata": {},
   "source": [
    "## Full-Scale Evaluation Scenario: Best Results\n",
    "\n",
    "| Dataset (Set)          | Hyperparameters Optimized? | Accuracy | Precision (Macro) | Recall (Macro) | Macro F1-score |\n",
    "|------------------------|--------------------------|----------|-------------------|---------------|---------------|\n",
    "| WELFake (Validation)   | Yes                      | 0.9645   | 0.9621   | 0.9652   | 0.9636   |\n",
    "| WELFake (Test)         | Yes                      | 0.9652   | 0.9606   | 0.9663   | 0.9633   |\n",
    "| Fakeddit (Validation)  | No                       | 0.8630   | 0.8627   | 0.8588   | 0.8604   |\n",
    "| Fakeddit (Test)        | No                       | 0.8638   | 0.8630   | 0.8597   | 0.8611   |\n",
    "| Constraint (Validation)| Yes                      | 0.9474   | 0.9479   | 0.9467   | 0.9472   |\n",
    "| Constraint (Test)      | Yes                      | 0.9467   | 0.9469   | 0.9463   | 0.9466   |\n",
    "| PolitiFact (Validation)| Yes                      | 0.8846   | 0.8861   | 0.8930   | 0.8842   |\n",
    "| PolitiFact (Test)      | No                       | 0.8651   | 0.8667   | 0.8662   | 0.8651   |\n",
    "| GossipCop (Validation) | No                       | 0.8616   | 0.8404   | 0.7459   | 0.7773   |\n",
    "| GossipCop (Test)       | No                       | 0.8540   | 0.8226   | 0.7443   | 0.7716   |\n",
    "| All-Four (Validation)  | No                       | 0.9254   | 0.9237   | 0.9188   | 0.9211   |\n",
    "| All-Four (Test)        | No                       | 0.9267   | 0.9233   | 0.9178   | 0.9204   |"
   ]
  },
  {
   "cell_type": "markdown",
   "id": "7fb2842d-b979-4f5e-8085-78c0a8a45e03",
   "metadata": {},
   "source": [
    "## Five-Shot: Target WELFake\n",
    "\n",
    "| Dataset Name + Hyperparameter Tuning       | Accuracy | Precision (Macro) | Recall (Macro) | Macro F1-score |\n",
    "|--------------------------------------------|----------|-------------------|---------------|---------------|\n",
    "| **Validation + Optimized Hyperparameters**     | **0.6109**   | **0.5962**            | **0.5938**        | **0.5944**        |\n",
    "| **Test + Optimized Hyperparameters**           | **0.6298**   | **0.6068**            | **0.6068**        | **0.6068**        |\n",
    "| Validation + No Hyperparameter Tuning      | 0.6257   | 0.6098            | 0.5872        | 0.5815        |\n",
    "| Test + No Hyperparameter Tuning       | 0.6463   | 0.6148        | 0.5949    | 0.5948    |\n",
    "\n",
    "\n"
   ]
  },
  {
   "cell_type": "markdown",
   "id": "8e7bfcfc-2c40-43cb-9efe-a7505c2afca4",
   "metadata": {},
   "source": [
    "## Five-Shot: Target Constraint\n",
    "\n",
    "| Dataset Name + Hyperparameter Tuning       | Accuracy | Precision (Macro) | Recall (Macro) | Macro F1-score |\n",
    "|--------------------------------------------|----------|-------------------|---------------|---------------|\n",
    "| **Validation + Optimized Hyperparameters**     | **0.4840**   | **0.4969**            | **0.4979**        | **0.4468**        |\n",
    "| **Test + Optimized Hyperparameters**           | **0.4826**   | **0.4949**            | **0.4964**        | **0.4490**        |\n",
    "| Validation + No Hyperparameter Tuning      | 0.4601   | 0.4543            | 0.4774        | 0.3935        |\n",
    "| Test + No Hyperparameter Tuning           | 0.4670   | 0.4701            | 0.4849        | 0.4034        |\n"
   ]
  },
  {
   "cell_type": "markdown",
   "id": "651de125-3cc6-439e-ac59-b5b62c9cb528",
   "metadata": {},
   "source": [
    "## Five-Shot: Target PolitiFact\n",
    "\n",
    "| Dataset Name + Hyperparameter Tuning       | Accuracy | Precision (Macro) | Recall (Macro) | Macro F1-score |\n",
    "|--------------------------------------------|----------|-------------------|---------------|---------------|\n",
    "| **Validation + Optimized Hyperparameters** | **0.6635**   | **0.6735**            | **0.6744**        | **0.6634**        |\n",
    "| **Test + Optimized Hyperparameters**           | **0.6032**   | **0.6033**            | **0.6008**        | **0.5995**        |\n",
    "| Validation + No Hyperparameter Tuning      | 0.6635   | 0.6696            | 0.6718        | 0.6632        |\n",
    "| Test + No Hyperparameter Tuning       | 0.5952   | 0.5995            | 0.5905        | 0.5837        |\n"
   ]
  },
  {
   "cell_type": "markdown",
   "id": "72a0bcdb-cfbd-4bbd-a42c-a5616632e79b",
   "metadata": {},
   "source": [
    "## Five-Shot: Target GossipCop\n",
    "\n",
    "| Dataset Name + Hyperparameter Tuning       | Accuracy | Precision (Macro) | Recall (Macro) | Macro F1-score |\n",
    "|--------------------------------------------|----------|-------------------|---------------|---------------|\n",
    "| Validation + Optimized Hyperparameters     | 0.3943   | 0.5595            | 0.5581        | 0.3943        |\n",
    "| Test + Optimized Hyperparameters           | 0.4008   | 0.5596            | 0.5588        | 0.4007        |\n",
    "| **Validation + No Hyperparameter Tuning**  | **0.4768**   | **0.5722**        | **0.5902**    | **0.4711**    |\n",
    "| **Test + No Hyperparameter Tuning**        | **0.4626**   | **0.5564**        | **0.5696**    | **0.4574**    |\n"
   ]
  },
  {
   "cell_type": "markdown",
   "id": "0a2c1304-6d15-4c3d-befb-0cd74e5ce5e9",
   "metadata": {},
   "source": [
    "## Five-Shot Evaluation Scenario: Best Results\n",
    "\n",
    "| Dataset (Set)               | Hyperparameters Optimized? | Accuracy | Precision (Macro) | Recall (Macro) | Macro F1-score |\n",
    "|-----------------------------|----------------------------|----------|-------------------|----------------|----------------|\n",
    "| WELFake (Validation)        | Yes                        | 0.6109   | 0.5962            | 0.5938        | 0.5944         |\n",
    "| WELFake (Test)              | Yes                        | 0.6298   | 0.6068            | 0.6068        | 0.6068         |\n",
    "| Constraint (Validation)     | Yes                        | 0.4840   | 0.4969            | 0.4979         | 0.4468         |\n",
    "| Constraint (Test)           | Yes                        | 0.4826   | 0.4949            | 0.4964         | 0.4490         |\n",
    "| PolitiFact (Validation)     | Yes                        | 0.6635   | 0.6735            | 0.6744         | 0.6634         |\n",
    "| PolitiFact (Test)           | No                         | 0.6635   | 0.6696            | 0.6718         | 0.6632         |\n",
    "| GossipCop (Validation)      | No                         | 0.4768   | 0.5722            | 0.5902         | 0.4711         |\n",
    "| GossipCop (Test)            | No                         | 0.4626   | 0.5564            | 0.5696         | 0.4574         |\n"
   ]
  },
  {
   "cell_type": "markdown",
   "id": "552fdb20-db9d-4ec9-a6e2-955583dab2d9",
   "metadata": {},
   "source": [
    "## Zero-Shot: Target WELFake\n",
    "\n",
    "| Dataset Name + Hyperparameter Tuning       | Accuracy | Precision (Macro) | Recall (Macro) | Macro F1-score |\n",
    "|--------------------------------------------|----------|-------------------|---------------|---------------|\n",
    "| **Validation + Optimized Hyperparameters** | **0.6093** | **0.5940**        | **0.5912**    | **0.5918**    |\n",
    "| **Test + Optimized Hyperparameters**       | **0.6269** | **0.6032**        | **0.6028**    | **0.6030**    |\n",
    "| Validation + No Hyperparameter Tuning      | 0.6222   | 0.6048            | 0.5859        | 0.5814        |\n",
    "| Test + No Hyperparameter Tuning            | 0.6422   | 0.6101            | 0.5935        | 0.5938        |\n"
   ]
  },
  {
   "cell_type": "markdown",
   "id": "a38e32f8-a3ee-46ed-88b2-292a56309834",
   "metadata": {},
   "source": [
    "## Zero-Shot: Target Constraint  \n",
    "\n",
    "| Dataset Name + Hyperparameter Tuning       | Accuracy | Precision (Macro) | Recall (Macro) | Macro F1-score |\n",
    "|--------------------------------------------|----------|-------------------|---------------|---------------|\n",
    "| Validation + Optimized Hyperparameters     | 0.4201   | 0.3957            | 0.4350        | 0.3697        |\n",
    "| Test + Optimized Hyperparameters           | 0.4350   | 0.4169            | 0.4512        | 0.3805        |\n",
    "| **Validation + No Hyperparameter Tuning**  | **0.4859**  | **0.4993**        | **0.4995**    | **0.4505**    |\n",
    "| **Test + No Hyperparameter Tuning**        | **0.4826**  | **0.4951**        | **0.4966**    | **0.4479**    |\n"
   ]
  },
  {
   "cell_type": "markdown",
   "id": "5fe759a7-27cb-42a3-a617-6ba197b65e12",
   "metadata": {},
   "source": [
    "## Zero-Shot: Target PolitiFact  \n",
    "\n",
    "| Dataset Name + Hyperparameter Tuning       | Accuracy | Precision (Macro) | Recall (Macro) | Macro F1-score |\n",
    "|--------------------------------------------|----------|-------------------|---------------|---------------|\n",
    "| **Validation + Optimized Hyperparameters** | **0.6827**  | **0.6930**        | **0.6940**    | **0.6827**    |\n",
    "| Test + Optimized Hyperparameters           | 0.5873   | 0.5870            | 0.5849        | 0.5835        |\n",
    "| Validation + No Hyperparameter Tuning      | 0.6346   | 0.6558            | 0.6516        | 0.6341        |\n",
    "| **Test + No Hyperparameter Tuning**        | **0.6429**  | **0.6445**        | **0.6402**    | **0.6390**    |\n"
   ]
  },
  {
   "cell_type": "markdown",
   "id": "1ebd6fcc-4dc7-4f8a-a6fe-069fd1c1216c",
   "metadata": {},
   "source": [
    "## Zero-Shot: Target GossipCop  \n",
    "\n",
    "| Dataset Name + Hyperparameter Tuning       | Accuracy | Precision (Macro) | Recall (Macro) | Macro F1-score |\n",
    "|--------------------------------------------|----------|-------------------|---------------|---------------|\n",
    "| Validation + Optimized Hyperparameters     | 0.4209   | 0.5623            | 0.5674        | 0.4204        |\n",
    "| Test + Optimized Hyperparameters           | 0.4245   | 0.5580            | 0.5634        | 0.4238        |\n",
    "| **Validation + No Hyperparameter Tuning**  | **0.4920**  | **0.5697**        | **0.5904**    | **0.4831**    |\n",
    "| **Test + No Hyperparameter Tuning**        | **0.4802**  | **0.5517**        | **0.5669**    | **0.4705**    |\n"
   ]
  },
  {
   "cell_type": "markdown",
   "id": "2241cb6e-317b-4c64-a292-6b9c4c3af823",
   "metadata": {},
   "source": [
    "## Zero-Shot Evaluation Scenario: Best Results\n",
    "\n",
    "| Dataset (Set)               | Hyperparameters Optimized? | Accuracy | Precision (Macro) | Recall (Macro) | Macro F1-score |\n",
    "|-----------------------------|----------------------------|----------|-------------------|----------------|----------------|\n",
    "| WELFake (Validation)        | Yes                        | 0.6093 | 0.5940        | 0.5912    | 0.5918         |\n",
    "| WELFake (Test)              | Yes                        | 0.6269 | 0.6032        | 0.6028    | 0.6030    |\n",
    "| Constraint (Validation)     | No                         | 0.4859   | 0.4993            | 0.4995         | 0.4505         |\n",
    "| Constraint (Test)           | No                         | 0.4826   | 0.4951            | 0.4966         | 0.4479         |\n",
    "| PolitiFact (Validation)     | Yes                        | 0.6827   | 0.6930            | 0.6940         | 0.6827         |\n",
    "| PolitiFact (Test)           | No                         | 0.6429   | 0.6445            | 0.6402         | 0.6390         |\n",
    "| GossipCop (Validation)      | No                         | 0.4920   | 0.5697            | 0.5904         | 0.4831         |\n",
    "| GossipCop (Test)            | No                         | 0.4802   | 0.5517            | 0.5669         | 0.4705         |\n"
   ]
  }
 ],
 "metadata": {
  "kernelspec": {
   "display_name": "Python 3 (ipykernel)",
   "language": "python",
   "name": "python3"
  },
  "language_info": {
   "codemirror_mode": {
    "name": "ipython",
    "version": 3
   },
   "file_extension": ".py",
   "mimetype": "text/x-python",
   "name": "python",
   "nbconvert_exporter": "python",
   "pygments_lexer": "ipython3",
   "version": "3.9.6"
  }
 },
 "nbformat": 4,
 "nbformat_minor": 5
}
