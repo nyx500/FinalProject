{
 "cells": [
  {
   "cell_type": "markdown",
   "id": "364b4ec2-b8f3-4e41-a08f-3f5ad9203691",
   "metadata": {},
   "source": [
    "# Best Results Tables"
   ]
  },
  {
   "cell_type": "markdown",
   "id": "55c01d87-2f17-40c8-8e08-cb7a4941e6bf",
   "metadata": {},
   "source": [
    "## Best Results and Pipeline Types for Full-Scale Evaluation Scenario\n",
    "\n",
    "| Dataset     | Split | Accuracy | Macro Precision | Macro Recall | Macro F1-score | Best Pipeline |\n",
    "|-------------|-------|----------|-----------------|--------------|----------------|---------------|\n",
    "| WELFake     | Val   | 0.9823   | 0.9812          | 0.9825       | 0.9818         | Avg. FastText Embeddings + PA Classifier + Extra Features + Standard Scaler |\n",
    "| WELFake     | Test  | 0.9822   | 0.9803          | 0.9820       | 0.9811         | Avg. FastText Embeddings + PA Classifier + Extra Features + Standard Scaler |\n",
    "| Fakeddit    | Val   | 0.8768   | 0.8754          | 0.8744       | 0.8749         | Avg. FastText Embeddings + PA Classifier + Extra Features + Standard Scaler |\n",
    "| Fakeddit    | Test  | 0.8771   | 0.8756          | 0.8746       | 0.8750         | Avg. FastText Embeddings + PA Classifier + Extra Features + Standard Scaler |\n",
    "| Constraint  | Val   | 0.9474   | 0.9479          | 0.9467       | 0.9472         | TF-IDF + PA Classifier + Extra Features + Hyperparameter Bayesian Optimization |\n",
    "| Constraint  | Test  | 0.9467   | 0.9469          | 0.9463       | 0.9466         | TF-IDF + PA Classifier + Extra Features + Hyperparameter Bayesian Optimization |\n",
    "| PolitiFact  | Val   | 0.8942   | 0.8974          | 0.9041       | 0.8940         | Avg. FastText Embeddings + PA Classifier + Extra Features + MinMax Scaler |\n",
    "| PolitiFact  | Test  | 0.8968   | 0.9006          | 0.8985       | 0.8968         | Avg. FastText Embeddings + PA Classifier + Extra Features + Standard Scaler |\n",
    "| GossipCop   | Val   | 0.8616   | 0.8404          | 0.7459       | 0.7773         | TF-IDF + PA Classifier + Extra Features (No Hyperparameter Optimization) |\n",
    "| GossipCop   | Test  | 0.8540   | 0.8226          | 0.7443       | 0.7716         | TF-IDF + PA Classifier + Extra Features (No Hyperparameter Optimization) |\n",
    "| All-Four    | Val   | 0.9321   | 0.9288          | 0.9285       | 0.9286         | Avg. FastText Embeddings + PA Classifier + Extra Features + Standard Scaler |\n",
    "| All-Four    | Test  | 0.9323   | 0.9270          | 0.9268       | 0.9269         | Avg. FastText Embeddings + PA Classifier + Extra Features + Standard Scaler |\n"
   ]
  },
  {
   "cell_type": "markdown",
   "id": "ddbccc11-67c1-4456-b28d-0931b2e3456d",
   "metadata": {},
   "source": [
    "## Best Results and Pipeline Types for Five-Shot Evaluation Scenario\n",
    "\n",
    "| Dataset     | Split | Accuracy | Macro Precision | Macro Recall | Macro F1-score | Best Pipeline |\n",
    "|-------------|-------|----------|-----------------|--------------|----------------|---------------|\n",
    "| WELFake     | Val   | 0.6225   | 0.6062          | 0.5990       | 0.5995         | Baseline TF-IDF + PA Classifier |\n",
    "| WELFake     | Test  | 0.6298   | 0.6068          | 0.6068       | 0.6068         | TF-IDF + PA Classifier + Extra Features + Hyperparameter Bayesian Optimization |\n",
    "| Constraint  | Val   | 0.5761   | 0.5752          | 0.5753       | 0.5753         | Sequential FastText embeddings + CNN-LSTM (L1 Regularization) |\n",
    "| Constraint  | Test  | 0.5726   | 0.5714          | 0.5713       | 0.5714         | Sequential FastText embeddings + CNN-LSTM (L1 Regularization) |\n",
    "| PolitiFact  | Val   | 0.7596   | 0.7815          | 0.7354       | 0.7393         | Sequential FastText embeddings + CNN-LSTM (No Regularization) |\n",
    "| PolitiFact  | Test  | 0.7143   | 0.7147          | 0.7130       | 0.7131         | Avg. FastText Embeddings + PA Classifier + Extra Features + MinMax Scaler |\n",
    "| GossipCop   | Val   | 0.4829   | 0.5540          | 0.5708       | 0.4724         | Sequential FastText embeddings + CNN-LSTM (L2 Regularization) |\n",
    "| GossipCop   | Test  | 0.4998   | 0.5340          | 0.5464       | 0.4789         | Sequential FastText embeddings + CNN-LSTM (No Regularization, Multi-Head Attention) |"
   ]
  },
  {
   "cell_type": "markdown",
   "id": "08652149-b44f-4716-968f-52d8501c776f",
   "metadata": {},
   "source": [
    "## Best Results and Pipeline Types for Zero-Shot Evaluation Scenario\n",
    "\n",
    "| Dataset     | Split | Accuracy | Macro Precision | Macro Recall | Macro F1-score | Best Pipeline |\n",
    "|-------------|-------|----------|-----------------|--------------|----------------|---------------|\n",
    "| WELFake     | Val   | 0.6188   | 0.6020          | 0.5952       | 0.5956         | Baseline TF-IDF + PA Classifier |\n",
    "| WELFake     | Test  | 0.6390   | 0.6112          | 0.6050       | 0.6067         | Baseline TF-IDF + PA Classifier |\n",
    "| Constraint  | Val   | 0.5771   | 0.5759            | 0.5759        | 0.5759          | Sequential FastText embeddings + CNN-LSTM (L1 Regularization) |\n",
    "| Constraint  | Test  | 0.5895   | 0.5887          | 0.5834       | 0.5800         | Sequential FastText embeddings + CNN-LSTM (L2 Regularization) |\n",
    "| PolitiFact  | Val   | 0.7596   | 0.7904          | 0.7328       | 0.7362         | Sequential FastText embeddings + CNN-LSTM (Both L2 and L1 Regularization, same scores) |\n",
    "| PolitiFact  | Test  | 0.7143   | 0.7147          | 0.7130       | 0.7131         | Avg. FastText Embeddings + PA Classifier + Extra Features + MinMax Scaler |\n",
    "| GossipCop   | Val   | 0.4920   | 0.5697          | 0.5904       | 0.4831         | TF-IDF + PA Classifier + Extra Features (No Hyperparameter Optimization) |\n",
    "| GossipCop   | Test  | 0.4802   | 0.5517          | 0.5669       | 0.4705         | TF-IDF + PA Classifier + Extra Features (No Hyperparameter Optimization) |\n"
   ]
  }
 ],
 "metadata": {
  "kernelspec": {
   "display_name": "Python 3 (ipykernel)",
   "language": "python",
   "name": "python3"
  },
  "language_info": {
   "codemirror_mode": {
    "name": "ipython",
    "version": 3
   },
   "file_extension": ".py",
   "mimetype": "text/x-python",
   "name": "python",
   "nbconvert_exporter": "python",
   "pygments_lexer": "ipython3",
   "version": "3.9.6"
  }
 },
 "nbformat": 4,
 "nbformat_minor": 5
}
