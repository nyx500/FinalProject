{
 "cells": [
  {
   "cell_type": "markdown",
   "id": "e3b63dd8-97af-43a1-b00f-a492fd39aafb",
   "metadata": {},
   "source": [
    "# Cleaning and Preprocessing Datasets"
   ]
  },
  {
   "cell_type": "markdown",
   "id": "0f646950-0b61-468b-895f-02e9ad5096c5",
   "metadata": {},
   "source": [
    "- Inspecting class distributions\n",
    "- Splitting datasets into train, validation, and test sets where required (did not already come pre-split, unlike Fakeddit and Constraint)\n",
    "- Removing rows with missing or empty string *text* values\n",
    "- Removing non-English text rows with *langdetect* library\n",
    "- Removing duplicate text rows between training, validation and test sets to prevent leakage"
   ]
  },
  {
   "cell_type": "markdown",
   "id": "df7598a2-7a6e-4f95-929f-8c77f1e9d9c4",
   "metadata": {},
   "source": [
    "## Environment Setup"
   ]
  },
  {
   "cell_type": "code",
   "execution_count": 1,
   "id": "20ab30ae-7804-4410-8927-1d16fa82c088",
   "metadata": {},
   "outputs": [
    {
     "name": "stderr",
     "output_type": "stream",
     "text": [
      "[nltk_data] Downloading package wordnet to /Users/ophelia/nltk_data...\n",
      "[nltk_data]   Package wordnet is already up-to-date!\n",
      "[nltk_data] Downloading package punkt to /Users/ophelia/nltk_data...\n",
      "[nltk_data]   Package punkt is already up-to-date!\n",
      "[nltk_data] Downloading package punkt_tab to\n",
      "[nltk_data]     /Users/ophelia/nltk_data...\n",
      "[nltk_data]   Package punkt_tab is already up-to-date!\n",
      "[nltk_data] Downloading package averaged_perceptron_tagger to\n",
      "[nltk_data]     /Users/ophelia/nltk_data...\n",
      "[nltk_data]   Package averaged_perceptron_tagger is already up-to-\n",
      "[nltk_data]       date!\n",
      "[nltk_data] Downloading package averaged_perceptron_tagger_eng to\n",
      "[nltk_data]     /Users/ophelia/nltk_data...\n",
      "[nltk_data]   Package averaged_perceptron_tagger_eng is already up-to-\n",
      "[nltk_data]       date!\n",
      "[nltk_data] Downloading package stopwords to\n",
      "[nltk_data]     /Users/ophelia/nltk_data...\n",
      "[nltk_data]   Package stopwords is already up-to-date!\n"
     ]
    }
   ],
   "source": [
    "# Imports the required libraries\n",
    "import os\n",
    "import pandas as pd\n",
    "import re\n",
    "import numpy as np\n",
    "from tqdm import tqdm\n",
    "# For pandas progress monitoring\n",
    "tqdm.pandas()\n",
    "# For removing non-English text samples\n",
    "from langdetect import detect, LangDetectException\n",
    "# For setting random seeds, for reproducible results\n",
    "import random\n",
    "# For splitting the datasets\n",
    "from sklearn.model_selection import train_test_split\n",
    "# For visualizations\n",
    "import matplotlib.pyplot as plt\n",
    "import seaborn as sns\n",
    "%matplotlib inline"
   ]
  },
  {
   "cell_type": "markdown",
   "id": "cc66e4f5-bb14-4b72-8917-0eb349f16871",
   "metadata": {},
   "source": [
    "## Dataset Cleaning and Wrangling Functions"
   ]
  },
  {
   "cell_type": "code",
   "execution_count": 2,
   "id": "b6279231-59df-40fd-ad6c-d90e80e3e164",
   "metadata": {},
   "outputs": [],
   "source": [
    "def plotClassDistributions(dataframes, names):\n",
    "    \"\"\"\n",
    "        Plots the class distributions for differnt splits in a dataset\n",
    "\n",
    "            Input Parameters:\n",
    "                dataframes (list): a list of training, validation and test pandas DataFrames representing a dataset\n",
    "                names (list): a list of strings describing each dataset split\n",
    "    \"\"\"\n",
    "    \n",
    "    # Creates a single row and multiple column subplot (number of columns = number of dataset splits) using matplotlib\n",
    "    fig, axes = plt.subplots(1, len(dataframes), figsize=(15, 5))\n",
    "    \n",
    "    # Iterates over the matplotlib axes, DataFrames, and split names using zip to get three-element tuples\n",
    "    for ax, df, name in zip(axes, dataframes, names):\n",
    "        \n",
    "        # Creates a countplot to visualize numbers of real and fake news samples in each split\n",
    "        sns.countplot(x=\"label\", data=df, hue=\"label\", palette=\"viridis\", ax=ax, legend=False)\n",
    "        \n",
    "        # Adds titles and x/y-axis annotations\n",
    "        ax.set_title(f\"Class Distribution in {name}\")\n",
    "        ax.set_xlabel(\"Label\")\n",
    "        ax.set_ylabel(\"Counts\")\n",
    "        \n",
    "        # Sets the x-axis tick positions\n",
    "        ax.set_xticks([0, 1])\n",
    "        \n",
    "        # Sets the x-tick labels\n",
    "        ax.set_xticklabels([\"Real News\", \"Fake News\"])\n",
    "        \n",
    "    # Adjusts the layout for better readability\n",
    "    plt.tight_layout()\n",
    "    plt.show()\n",
    "\n",
    "def removeNonEnglishTexts(text):\n",
    "    \"\"\"\n",
    "      Cleans the DataFrame by removing entries that are detected as non-English by the langdetect library.\n",
    "          Input parameters:\n",
    "            text (str): a sample text.\n",
    "          Output:\n",
    "            text (Boolean): True = text is in English, False = text is non-English\n",
    "    \"\"\"\n",
    "    \n",
    "    # Attempts to detect the text's language using langdetect\n",
    "    try:\n",
    "        \n",
    "     # Boolean one-liner condition returns True if the langdetect module detects 'en', otherwise returns False for non-English text\n",
    "      return detect(text) == 'en'\n",
    "        \n",
    "    except LangDetectException:\n",
    "        \n",
    "      # If langdetect fails to acknowledge the text is in English, then return False as well\n",
    "      return False\n",
    "\n",
    "def cleanDataFrame(df):\n",
    "    \"\"\"\n",
    "    Cleans the DataFrame to remove missing rows with NaN text values or empty strings, and stripping trailing whitespace from the texts.\n",
    "    \n",
    "        Input Parameters:\n",
    "            df (pandas.DataFrame): the pandas DataFrame to be cleaned.\n",
    "        Output:\n",
    "            clean_df (pandas.DataFrame): cleaned DataFrame with only relevant data retained.\n",
    "    \"\"\"\n",
    "    \n",
    "    # Prints out the number of rows in this DataFrame before cleaning\n",
    "    print(f\"Before data cleaning, this DataFrame had {len(df)} entries.\")\n",
    "\n",
    "    # Checks for missing values in each column (before dropping any rows)\n",
    "    missing_values = df.isna().sum()\n",
    "    print(f\"Missing values in each column:\\n{missing_values}\")\n",
    "\n",
    "    # Counts the number of rows containing any NULL (NaN) entries\n",
    "    null_count = df.isna().any(axis=1).sum()\n",
    "    print(f\"This dataset has {null_count} rows containing missing values\")\n",
    "\n",
    "    # Prints out rows with missing text values\n",
    "    missing_text_rows = df[df[\"text\"].isna()]\n",
    "    print(f\"Rows with missing 'text' column:\\n{missing_text_rows}\")\n",
    "\n",
    "    # Removes rows where \"text\" column value is NaN\n",
    "    clean_df = df.dropna(subset=[\"text\"])\n",
    "\n",
    "    # Checks the shape after dropping rows with NaN in \"text\"\n",
    "    print(f\"After dropping rows with NaN in 'text', the DataFrame has {len(clean_df)} entries.\")\n",
    "\n",
    "    # Removes any empty strings in the \"text\" column following stripping of trailing whitespace\n",
    "    clean_df = clean_df[clean_df[\"text\"].str.strip() != '']\n",
    "\n",
    "    # Removes rows where \"text\" contains only the string \"NaN\" meaning missing value, regardless of the case\n",
    "    clean_df = clean_df[~(clean_df[\"text\"].str.strip().str.lower() == \"nan\")]\n",
    "\n",
    "    # Removes duplicate entries in the \"text\" column\n",
    "    clean_df = clean_df.drop_duplicates(subset=\"text\")\n",
    "    \n",
    "    # Applies language detection on the \"text\" column\n",
    "    if \"text\" in clean_df.columns:\n",
    "        \n",
    "        clean_df[\"is_text_english\"] = clean_df[\"text\"].progress_apply(removeNonEnglishTexts)\n",
    "\n",
    "        # Checks if \"is_text_english\" column has been created\n",
    "        print(f\"Columns after applying language detection: {clean_df.columns.tolist()}\")\n",
    "\n",
    "        # Counts the number of non-English rows\n",
    "        other_lang_count = (~clean_df[\"is_text_english\"]).sum()\n",
    "        print(f\"There are {other_lang_count} rows detected as non-English text.\")\n",
    "\n",
    "        # Filters out non-English texts\n",
    "        clean_df = clean_df[clean_df[\"is_text_english\"]]\n",
    "\n",
    "        # Checks the state of the DataFrame after filtering out non-English texts\n",
    "        print(f\"Columns after filtering non-English texts: {clean_df.columns.tolist()}\")\n",
    "\n",
    "        # Drops the \"is_text_english\" column as it's no longer needed\n",
    "        if \"is_text_english\" in clean_df.columns:\n",
    "            clean_df = clean_df.drop(columns=[\"is_text_english\"])\n",
    "\n",
    "    # Prints number of rows remaining after cleaning\n",
    "    print(f\"After cleaning, this DataFrame now has {len(clean_df)} entries remaining.\")\n",
    "\n",
    "    return clean_df"
   ]
  },
  {
   "cell_type": "markdown",
   "id": "b7750ac1-c6ac-4b22-b83c-1cf6ddb03c2b",
   "metadata": {},
   "source": [
    "### Constraint Dataset: Visualization of Class Distributions and Dataset Cleaning"
   ]
  },
  {
   "cell_type": "code",
   "execution_count": 19,
   "id": "cb57d953-288a-4baf-ae97-b01ea1cf784d",
   "metadata": {},
   "outputs": [
    {
     "name": "stdout",
     "output_type": "stream",
     "text": [
      "/Users/ophelia/Documents/FinalProject/FPData/Constraint\n",
      "Len training data: 6420\n",
      "Len val data: 2140\n",
      "Len training and validation data: 8560\n",
      "Len test data: 2140\n",
      "Train proportion: 0.6\n",
      "Val proportion: 0.2\n",
      "Test proportion: 0.2\n",
      "Train + val proportion is 0.8; test proportion is 0.2\n",
      "   id                                               text  label\n",
      "0   1  The CDC currently reports 99031 deaths. In gen...      0\n",
      "1   2  States reported 1121 deaths a small rise from ...      0\n",
      "2   3  Politically Correct Woman (Almost) Uses Pandem...      1\n",
      "3   4  #IndiaFightsCorona: We have 1524 #COVID testin...      0\n",
      "4   5  Populous states can generate large case counts...      0\n",
      "   id                                               text  label\n",
      "0   1  Chinese converting to Islam after realising th...      1\n",
      "1   2  11 out of 13 people (from the Diamond Princess...      1\n",
      "2   3  COVID-19 Is Caused By A Bacterium, Not Virus A...      1\n",
      "3   4  Mike Pence in RNC speech praises Donald Trump’...      1\n",
      "4   5  6/10 Sky's @EdConwaySky explains the latest #C...      0\n",
      "   id                                               text  label\n",
      "0   1  Our daily update is published. States reported...      0\n",
      "1   2             Alfalfa is the only cure for COVID-19.      1\n",
      "2   3  President Trump Asked What He Would Do If He W...      1\n",
      "3   4  States reported 630 deaths. We are still seein...      0\n",
      "4   5  This is the sixth time a global health emergen...      0\n"
     ]
    },
    {
     "data": {
      "image/png": "[encoded data removed]",
      "text/plain": [
       "<Figure size 1500x500 with 3 Axes>"
      ]
     },
     "metadata": {},
     "output_type": "display_data"
    }
   ],
   "source": [
    "# Loads in the Constraint dataset\n",
    "parent_dir = os.path.dirname(os.getcwd()) # Defines the path to parent dir of this (Notebooks) one\n",
    "# Defines path to Constraint datasets\n",
    "constraint_path = os.path.join(parent_dir, \"FPData/Constraint\")\n",
    "print(constraint_path)\n",
    "\n",
    "# Reads in the Constraint files as DataFrames\n",
    "constraint_train = pd.read_csv(os.path.join(constraint_path, \"Constraint_Train.csv\"))\n",
    "constraint_val = pd.read_csv(os.path.join(constraint_path, \"Constraint_Val.csv\"))\n",
    "constraint_test = pd.read_csv(os.path.join(constraint_path, \"Constraint_Test.csv\"))\n",
    "\n",
    "# Prints the DataFrames' length to figure out proportions of split\n",
    "len_train = len(constraint_train)\n",
    "len_val = len(constraint_val)\n",
    "len_test = len(constraint_test)\n",
    "len_train_and_val = len(constraint_train) + len(constraint_val)\n",
    "print(f\"Len training data: {len_train}\")\n",
    "print(f\"Len val data: {len_val}\")\n",
    "print(f\"Len training and validation data: {len_train_and_val}\")\n",
    "print(f\"Len test data: {len_test}\")\n",
    "\n",
    "# Prints proportion of split\n",
    "total_samples = len_train + len_val + len_test\n",
    "proportion_train = len_train / total_samples\n",
    "proportion_val = len_val / total_samples\n",
    "proportion_test = len_test / total_samples\n",
    "print(f\"Train proportion: {proportion_train}\\nVal proportion: {proportion_val}\\nTest proportion: {proportion_test}\")\n",
    "print(f\"Train + val proportion is {proportion_train + proportion_val}; test proportion is {proportion_test}\")\n",
    "\n",
    "# Iterates over the DataFrames in Constraint and makes sure the text column is named \"text\" for consistency with other datasets\n",
    "for df in [constraint_train, constraint_val, constraint_test]:\n",
    "    # Renames the \"tweet\" column to \"text\"\n",
    "    df.rename(columns={\"tweet\": \"text\"}, inplace=True)\n",
    "    # Encodes \"real\" news as 0 and \"fake\" news as 1 for consistency with other datasets\n",
    "    df[\"label\"] = df[\"label\"].replace({\"real\": 0, \"fake\": 1}).astype(int)\n",
    "\n",
    "# Checks that this has worked\n",
    "print(constraint_train.head())\n",
    "print(constraint_val.head())\n",
    "print(constraint_test.head())\n",
    "\n",
    "# Lists the the datasets and their names\n",
    "datasets = [constraint_train, constraint_val, constraint_test]\n",
    "dataset_names = [\"Training Set\", \"Validation Set\", \"Test Set\"]\n",
    "\n",
    "# Plots the class distribution for each set side by side\n",
    "plotClassDistributions(datasets, dataset_names)"
   ]
  },
  {
   "cell_type": "markdown",
   "id": "7e051527-47d8-47e2-ade9-68b0fdb0286f",
   "metadata": {},
   "source": [
    "There are more real news samples than fake news (minority class) samples. Therefore, one must use F1-score as a metric as well as accuracy to evaluate performance on the fake news class. Precision and recall are also helpful for comparing performance across classes. Furthermore, macro F1-score should be used to show performance on all classes."
   ]
  },
  {
   "cell_type": "markdown",
   "id": "0b2c71ee-b4b4-461a-9ec9-f80e96267b3b",
   "metadata": {},
   "source": [
    "#### Removing Duplicates from Training, Validation and Test Sets for Constraint Dataset"
   ]
  },
  {
   "cell_type": "code",
   "execution_count": 20,
   "id": "68690dc5-da93-4626-ae7a-a5199b455335",
   "metadata": {},
   "outputs": [
    {
     "name": "stdout",
     "output_type": "stream",
     "text": [
      "Found repeated entries between train and validation sets:\n",
      "Repeated entry: 'Our combined total of confirmed and probable cases remains at 1504. The number of recovered cases is unchanged at 1481. Only one case remains active. There are no additional deaths to report. There is no one in New Zealand receiving hospital-level care for COVID-19.' found at train indices [5458] and validation indices [909]\n"
     ]
    }
   ],
   "source": [
    "# Finds the repeated entries between the dataframes now\n",
    "train_val_repeats = set(constraint_train[\"text\"]).intersection(set(constraint_val[\"text\"]))\n",
    "train_test_repeats = set(constraint_train[\"text\"]).intersection(set(constraint_test[\"text\"]))\n",
    "val_test_repeats = set(constraint_val[\"text\"]).intersection(set(constraint_test[\"text\"]))\n",
    "\n",
    "# Checks whether there are any repeated entries in the sets\n",
    "if not train_val_repeats and not train_test_repeats and not val_test_repeats:\n",
    "    print(\"Success: the 'text' column entries are disjoint across all three DataFrames.\")\n",
    "else:\n",
    "    # Prints the repeated entries' texts and their line numbers\n",
    "    # Training-validation duplicates\n",
    "    if train_val_repeats:\n",
    "        print(\"Found repeated entries between train and validation sets:\")\n",
    "        for entry in train_val_repeats:\n",
    "            # Extracts and prints indices of training and validation duplicates\n",
    "            train_index = constraint_train[constraint_train[\"text\"] == entry].index.tolist()\n",
    "            val_index = constraint_val[constraint_val[\"text\"] == entry].index.tolist()\n",
    "            print(f\"Repeated entry: '{entry}' found at train indices {train_index} and validation indices {val_index}\")\n",
    "    # Training-test duplicates\n",
    "    if train_test_repeats:\n",
    "        print(\"Found repeated entries between train and test sets:\")\n",
    "        for entry in train_test_repeats:\n",
    "            # Prints indices of training and test duplicates\n",
    "            train_index = constraint_train[constraint_train[\"text\"] == entry].index.tolist()\n",
    "            test_index = constraint_test[constraint_test[\"text\"] == entry].index.tolist()\n",
    "            print(f\"Repeated entry: '{entry}' found at train indices {train_index} and test indices {test_index}\")\n",
    "    # Training-validation duplicates\n",
    "    if val_test_repeats:\n",
    "        print(\"Found repeated entries between validation and test sets:\")\n",
    "        for entry in val_test_repeats:\n",
    "            # Prints indices of validation and test duplicates\n",
    "            val_index = constraint_val[constraint_val[\"text\"] == entry].index.tolist()\n",
    "            test_index = constraint_test[constraint_test[\"text\"] == entry].index.tolist()\n",
    "            print(f\"Repeated entry:\\n'{entry}' found at validation indices {val_index} and test indices {test_index}\")"
   ]
  },
  {
   "cell_type": "code",
   "execution_count": 21,
   "id": "31f311ec-2cfc-49c1-9596-f74e8b23f550",
   "metadata": {},
   "outputs": [
    {
     "name": "stdout",
     "output_type": "stream",
     "text": [
      "Our combined total of confirmed and probable cases remains at 1504. The number of recovered cases is unchanged at 1481. Only one case remains active. There are no additional deaths to report. There is no one in New Zealand receiving hospital-level care for COVID-19.\n"
     ]
    }
   ],
   "source": [
    "# Removes the repeated entry from val set to reduce risk of data leakage\n",
    "repeated_entry = constraint_val.iloc[909][\"text\"]\n",
    "print(repeated_entry)\n",
    "constraint_val = constraint_val[constraint_val['text'] != repeated_entry]"
   ]
  },
  {
   "cell_type": "code",
   "execution_count": 22,
   "id": "6d23f40b-03da-4813-9fa0-8b8481c0aac2",
   "metadata": {},
   "outputs": [
    {
     "name": "stdout",
     "output_type": "stream",
     "text": [
      "Success: the 'text' column entries are disjoint across all three DataFrames.\n"
     ]
    }
   ],
   "source": [
    "# Finds repeated entries again between the DataFrames, to see if this has worked\n",
    "train_val_repeats = set(constraint_train[\"text\"]).intersection(set(constraint_val[\"text\"]))\n",
    "train_test_repeats = set(constraint_train[\"text\"]).intersection(set(constraint_test[\"text\"]))\n",
    "val_test_repeats = set(constraint_val[\"text\"]).intersection(set(constraint_test[\"text\"]))\n",
    "\n",
    "# Checks if there are any repeated entries\n",
    "if not train_val_repeats and not train_test_repeats and not val_test_repeats:\n",
    "    print(\"Success: the 'text' column entries are disjoint across all three DataFrames.\")\n",
    "else:\n",
    "    # Prints the repeated entries and their indices\n",
    "    if train_val_repeats:\n",
    "        print(\"Found repeated entries between train and validation sets:\")\n",
    "        for entry in train_val_repeats:\n",
    "            train_index = constraint_train[constraint_train[\"text\"] == entry].index.tolist()\n",
    "            val_index = constraint_val[constraint_val[\"text\"] == entry].index.tolist()\n",
    "            print(f\"Repeated entry: '{entry}' found at train indices {train_index} and validation indices {val_index}\")\n",
    "    if train_test_repeats:\n",
    "        print(\"Found repeated entries between train and test sets:\")\n",
    "        for entry in train_test_repeats:\n",
    "            train_index = constraint_train[constraint_train[\"text\"] == entry].index.tolist()\n",
    "            test_index = constraint_test[constraint_test[\"text\"] == entry].index.tolist()\n",
    "            print(f\"Repeated entry: '{entry}' found at train indices {train_index} and test indices {test_index}\")\n",
    "    \n",
    "    if val_test_repeats:\n",
    "        print(\"Found repeated entries between validation and test sets:\")\n",
    "        for entry in val_test_repeats:\n",
    "            val_index = constraint_val[constraint_val[\"text\"] == entry].index.tolist()\n",
    "            test_index = constraint_test[constraint_test[\"text\"] == entry].index.tolist()\n",
    "            print(f\"Repeated entry:\\n'{entry}' found at validation indices {val_index} and test indices {test_index}\")"
   ]
  },
  {
   "cell_type": "code",
   "execution_count": 23,
   "id": "d1d6e223-d60e-4004-83d5-3dff2dc45e17",
   "metadata": {},
   "outputs": [
    {
     "name": "stdout",
     "output_type": "stream",
     "text": [
      "Before data cleaning, this DataFrame had 6420 entries.\n",
      "Missing values in each column:\n",
      "id       0\n",
      "text     0\n",
      "label    0\n",
      "dtype: int64\n",
      "This dataset has 0 rows containing missing values\n",
      "Rows with missing 'text' column:\n",
      "Empty DataFrame\n",
      "Columns: [id, text, label]\n",
      "Index: []\n",
      "After dropping rows with NaN in 'text', the DataFrame has 6420 entries.\n"
     ]
    },
    {
     "name": "stderr",
     "output_type": "stream",
     "text": [
      "\n",
      "00%|████████████████████████████████████████████████████████████████████████████████████████████████████████████| 6420/6420 [00:09<00:00, 702.27it/s]"
     ]
    },
    {
     "name": "stdout",
     "output_type": "stream",
     "text": [
      "Columns after applying language detection: ['id', 'text', 'label', 'is_text_english']\n",
      "There are 44 rows detected as non-English text.\n",
      "Columns after filtering non-English texts: ['id', 'text', 'label', 'is_text_english']\n",
      "After cleaning, this DataFrame now has 6376 entries remaining.\n",
      "Before data cleaning, this DataFrame had 2139 entries.\n",
      "Missing values in each column:\n",
      "id       0\n",
      "text     0\n",
      "label    0\n",
      "dtype: int64\n",
      "This dataset has 0 rows containing missing values\n",
      "Rows with missing 'text' column:\n",
      "Empty DataFrame\n",
      "Columns: [id, text, label]\n",
      "Index: []\n",
      "After dropping rows with NaN in 'text', the DataFrame has 2139 entries.\n"
     ]
    },
    {
     "name": "stderr",
     "output_type": "stream",
     "text": [
      "\n",
      "00%|████████████████████████████████████████████████████████████████████████████████████████████████████████████| 2139/2139 [00:02<00:00, 713.59it/s]"
     ]
    },
    {
     "name": "stdout",
     "output_type": "stream",
     "text": [
      "Columns after applying language detection: ['id', 'text', 'label', 'is_text_english']\n",
      "There are 11 rows detected as non-English text.\n",
      "Columns after filtering non-English texts: ['id', 'text', 'label', 'is_text_english']\n",
      "After cleaning, this DataFrame now has 2128 entries remaining.\n",
      "Before data cleaning, this DataFrame had 2140 entries.\n",
      "Missing values in each column:\n",
      "id       0\n",
      "text     0\n",
      "label    0\n",
      "dtype: int64\n",
      "This dataset has 0 rows containing missing values\n",
      "Rows with missing 'text' column:\n",
      "Empty DataFrame\n",
      "Columns: [id, text, label]\n",
      "Index: []\n",
      "After dropping rows with NaN in 'text', the DataFrame has 2140 entries.\n"
     ]
    },
    {
     "name": "stderr",
     "output_type": "stream",
     "text": [
      "100%|████████████████████████████████████████████████████████████████████████████████████████████████████████████| 2140/2140 [00:03<00:00, 707.76it/s]"
     ]
    },
    {
     "name": "stdout",
     "output_type": "stream",
     "text": [
      "Columns after applying language detection: ['id', 'text', 'label', 'is_text_english']\n",
      "There are 18 rows detected as non-English text.\n",
      "Columns after filtering non-English texts: ['id', 'text', 'label', 'is_text_english']\n",
      "After cleaning, this DataFrame now has 2122 entries remaining.\n"
     ]
    },
    {
     "name": "stderr",
     "output_type": "stream",
     "text": [
      "\n"
     ]
    }
   ],
   "source": [
    "# Checks for missing values and non-English entries\n",
    "clean_constraint_train = cleanDataFrame(constraint_train)\n",
    "clean_constraint_val = cleanDataFrame(constraint_val)\n",
    "clean_constraint_test = cleanDataFrame(constraint_test)"
   ]
  },
  {
   "cell_type": "code",
   "execution_count": 24,
   "id": "d0b8bbc8-cdbe-40e3-bf9b-8e06c65660ed",
   "metadata": {},
   "outputs": [
    {
     "name": "stdout",
     "output_type": "stream",
     "text": [
      "Len training data: 6376\n",
      "Len val data: 2128\n",
      "Len training and validation data: 8504\n",
      "Len test data: 2122\n",
      "Train proportion: 0.6000376435159044\n",
      "Val proportion: 0.2002635046113307\n",
      "Test proportion: 0.19969885187276493\n",
      "Train + val proportion is 0.8003011481272351; test proportion is 0.19969885187276493\n"
     ]
    }
   ],
   "source": [
    "# Prints the proportions after cleaning to see if they've changed a lot\n",
    "len_train = len(clean_constraint_train)\n",
    "len_val = len(clean_constraint_val)\n",
    "len_test = len(clean_constraint_test)\n",
    "len_train_and_val = len(clean_constraint_train) + len(clean_constraint_val)\n",
    "\n",
    "print(f\"Len training data: {len_train}\")\n",
    "print(f\"Len val data: {len_val}\")\n",
    "print(f\"Len training and validation data: {len_train_and_val}\")\n",
    "print(f\"Len test data: {len_test}\")\n",
    "\n",
    "# Prints proportion of the splits\n",
    "total_samples = len_train + len_val + len_test\n",
    "proportion_train = len_train / total_samples\n",
    "proportion_val = len_val / total_samples\n",
    "proportion_test = len_test / total_samples\n",
    "print(f\"Train proportion: {proportion_train}\\nVal proportion: {proportion_val}\\nTest proportion: {proportion_test}\")\n",
    "print(f\"Train + val proportion is {proportion_train + proportion_val}; test proportion is {proportion_test}\")"
   ]
  },
  {
   "cell_type": "code",
   "execution_count": 25,
   "id": "b2f53fe6-8e32-47ac-933d-1dc15b66ea94",
   "metadata": {},
   "outputs": [],
   "source": [
    "# Saves the clean DataFrames to .csv files\n",
    "clean_constraint_train.to_csv(os.path.join(constraint_path, \"clean_train.csv\"), index=False)\n",
    "clean_constraint_val.to_csv(os.path.join(constraint_path, \"clean_val.csv\"), index=False)\n",
    "clean_constraint_test.to_csv(os.path.join(constraint_path, \"clean_test.csv\"), index=False)"
   ]
  },
  {
   "cell_type": "code",
   "execution_count": 48,
   "id": "9b9ab9e1-c26e-486e-bc90-0b8a4f78c25b",
   "metadata": {},
   "outputs": [],
   "source": [
    "# Also concatenates and saves the train and val sets for when using the whole training data set, leaving only the test set (for baseline)\n",
    "clean_constraint_train_and_val = pd.concat([clean_constraint_train, clean_constraint_val], ignore_index=True)\n",
    "clean_constraint_train_and_val.to_csv(os.path.join(constraint_path, \"clean_all_train.csv\"), index=False)"
   ]
  },
  {
   "cell_type": "markdown",
   "id": "5a916b44-d4a5-4b7d-8307-f5d54b517876",
   "metadata": {},
   "source": [
    "### Fakeddit Dataset: Visualization of Class Distributions and Dataset Cleaning"
   ]
  },
  {
   "cell_type": "code",
   "execution_count": 26,
   "id": "d3e5e826-54b6-4a3e-83ca-3950717f5599",
   "metadata": {},
   "outputs": [
    {
     "name": "stdout",
     "output_type": "stream",
     "text": [
      "/Users/ophelia/Documents/FinalProject/FPData/Fakeddit\n",
      "                                               title  2_way_label\n",
      "0  My Walgreens offbrand Mucinex was engraved wit...            1\n",
      "1                                                NaN            0\n",
      "2                This concerned sink with a tiny hat            0\n",
      "3      Hackers leak emails from UAE ambassador to US            1\n",
      "4                                                NaN            0\n",
      "                                      title  2_way_label\n",
      "0                                       NaN            0\n",
      "1                My Xbox controller says hi            1\n",
      "2  PsBattle: New image from The Mandalorian            1\n",
      "3            Say hello to my little friend!            0\n",
      "4                Watch your step little one            0\n",
      "                                               title  2_way_label\n",
      "0  Virginia first lady criticized for handing cot...            1\n",
      "1  Jason Falconer: Reluctant hero stopped mall at...            1\n",
      "2                                                NaN            0\n",
      "3  Woman bites camel’s testicles to save herself ...            1\n",
      "4                                         stargazer             0\n",
      "Index(['Unnamed: 0.2', 'Unnamed: 0', 'Unnamed: 0.1', 'Unnamed: 0.1.1',\n",
      "       'author', 'clean_title', 'created_utc', 'domain', 'hasImage', 'id',\n",
      "       'image_url', 'linked_submission_id', 'num_comments', 'score',\n",
      "       'subreddit', 'title', 'upvote_ratio', '2_way_label', '3_way_label',\n",
      "       '6_way_label'],\n",
      "      dtype='object')\n",
      "Len training data: 878218\n",
      "Len val data: 92444\n",
      "Len training and validation data: 970662\n",
      "Len test data: 92444\n",
      "Train proportion: 0.8260869565217391\n",
      "Val proportion: 0.08695652173913043\n",
      "Test proportion: 0.08695652173913043\n",
      "Train + val proportion is 0.9130434782608696; test proportion is 0.08695652173913043\n",
      "                                                text  label\n",
      "0  My Walgreens offbrand Mucinex was engraved wit...      0\n",
      "1                                                NaN      1\n",
      "2                This concerned sink with a tiny hat      1\n",
      "3      Hackers leak emails from UAE ambassador to US      0\n",
      "4                                                NaN      1\n",
      "                                       text  label\n",
      "0                                       NaN      1\n",
      "1                My Xbox controller says hi      0\n",
      "2  PsBattle: New image from The Mandalorian      0\n",
      "3            Say hello to my little friend!      1\n",
      "4                Watch your step little one      1\n",
      "                                                text  label\n",
      "0  Virginia first lady criticized for handing cot...      0\n",
      "1  Jason Falconer: Reluctant hero stopped mall at...      0\n",
      "2                                                NaN      1\n",
      "3  Woman bites camel’s testicles to save herself ...      0\n",
      "4                                         stargazer       1\n"
     ]
    },
    {
     "data": {
      "image/png": "[encoded data removed]",
      "text/plain": [
       "<Figure size 1500x500 with 3 Axes>"
      ]
     },
     "metadata": {},
     "output_type": "display_data"
    }
   ],
   "source": [
    "# Loads in the Fakeddit dataset\n",
    "parent_dir = os.path.dirname(os.getcwd()) # Get path to parent dir of this (Notebooks) one\n",
    "fakeddit_path = os.path.join(parent_dir, \"FPData/Fakeddit\")\n",
    "print(fakeddit_path)\n",
    "\n",
    "# Loads in the splits as DataFrames\n",
    "fakeddit_train = pd.read_csv(os.path.join(fakeddit_path, \"all_train.tsv\"), sep=\"\\t\")\n",
    "fakeddit_val = pd.read_csv(os.path.join(fakeddit_path, \"all_validate.tsv\"), sep=\"\\t\")\n",
    "fakeddit_test = pd.read_csv(os.path.join(fakeddit_path, \"all_test_public.tsv\"), sep=\"\\t\")\n",
    "\n",
    "# Checks the DataFrames\n",
    "print(fakeddit_train[[\"title\", \"2_way_label\"]].head())\n",
    "print(fakeddit_val[[\"title\", \"2_way_label\"]].head())\n",
    "print(fakeddit_test[[\"title\", \"2_way_label\"]].head())\n",
    "\n",
    "# Prints the column names\n",
    "print(fakeddit_train.columns)\n",
    "\n",
    "# Prints the lengths to figure out proportions of split\n",
    "len_train = len(fakeddit_train)\n",
    "len_val = len(fakeddit_val)\n",
    "len_test = len(fakeddit_test)\n",
    "len_train_and_val = len(fakeddit_train) + len(fakeddit_val)\n",
    "\n",
    "print(f\"Len training data: {len_train}\")\n",
    "print(f\"Len val data: {len_val}\")\n",
    "print(f\"Len training and validation data: {len_train_and_val}\")\n",
    "print(f\"Len test data: {len_test}\")\n",
    "\n",
    "# Prints the proportions of the split\n",
    "total_samples = len_train + len_val + len_test\n",
    "proportion_train = len_train / total_samples\n",
    "proportion_val = len_val / total_samples\n",
    "proportion_test = len_test / total_samples\n",
    "print(f\"Train proportion: {proportion_train}\\nVal proportion: {proportion_val}\\nTest proportion: {proportion_test}\")\n",
    "print(f\"Train + val proportion is {proportion_train + proportion_val}; test proportion is {proportion_test}\")\n",
    "\n",
    "# Iterates over the three splits and renames columns and labels for consistency with other datasets\n",
    "for df in [fakeddit_train, fakeddit_val, fakeddit_test]:\n",
    "    # Renames \"title\" column to \"text\" , and binary 2_way_label column name to label\n",
    "    df.rename(columns={\"title\": \"text\", \"2_way_label\": \"label\"}, inplace=True)\n",
    "    # Instead of real news == 1, change real news == 0 and fake news from 0 to 1 also for consistency with the other data in the project\n",
    "    df.loc[:, \"label\"] = df[\"label\"].apply(lambda x: 1 if x == 0 else 0)\n",
    "    \n",
    "# Checks it has worked\n",
    "print(fakeddit_train[[\"text\", \"label\"]].head())\n",
    "print(fakeddit_val[[\"text\", \"label\"]].head())\n",
    "print(fakeddit_test[[\"text\", \"label\"]].head())\n",
    "\n",
    "# Lists the datasets and their names\n",
    "datasets = [fakeddit_train, fakeddit_val, fakeddit_test]\n",
    "dataset_names = [\"Training Set\", \"Validation Set\", \"Test Set\"]\n",
    "\n",
    "# Plots the class distribution for each set side by side\n",
    "plotClassDistributions(datasets, dataset_names)"
   ]
  },
  {
   "cell_type": "markdown",
   "id": "e0f19397-0315-4b55-9ebb-27e05d64181d",
   "metadata": {},
   "source": [
    "This dataset has more fake news than real news, unlike most of the other datasets. This means that \"real news\" is the minority class in this case."
   ]
  },
  {
   "cell_type": "code",
   "execution_count": 27,
   "id": "e6cb6146-942d-47e9-85ed-4999bcc077e0",
   "metadata": {
    "scrolled": true
   },
   "outputs": [],
   "source": [
    "# Checks Fakeddit for data leakage\n",
    "\n",
    "# Finds repeated entries between the DataFrames\n",
    "train_val_repeats = set(fakeddit_train[\"text\"]).intersection(set(fakeddit_val[\"text\"]))\n",
    "train_test_repeats = set(fakeddit_train[\"text\"]).intersection(set(fakeddit_test[\"text\"]))\n",
    "val_test_repeats = set(fakeddit_val[\"text\"]).intersection(set(fakeddit_test[\"text\"]))"
   ]
  },
  {
   "cell_type": "code",
   "execution_count": 28,
   "id": "c5070fc2-2112-41a1-b196-818db73e555b",
   "metadata": {},
   "outputs": [
    {
     "name": "stdout",
     "output_type": "stream",
     "text": [
      "Number of repeats between train and val set: 5559\n",
      "Number of repeats between train and test set: 5470\n",
      "Number of repeats between val and test set: 1151\n"
     ]
    }
   ],
   "source": [
    "# Lists the number of repeats\n",
    "print(f\"Number of repeats between train and val set: {len(train_val_repeats)}\")\n",
    "print(f\"Number of repeats between train and test set: {len(train_test_repeats)}\")\n",
    "print(f\"Number of repeats between val and test set: {len(val_test_repeats)}\")"
   ]
  },
  {
   "cell_type": "markdown",
   "id": "3cf84db8-4498-4c2b-a1c8-adb6bbef4150",
   "metadata": {},
   "source": [
    "There are so many repeats, we have to remove them to avoid leakage."
   ]
  },
  {
   "cell_type": "code",
   "execution_count": 29,
   "id": "cf71fb21-5ec6-4575-9681-cdbbe9998069",
   "metadata": {},
   "outputs": [],
   "source": [
    "# Removes the rows from the train set where there are repeats of the \"text\" field in the validation or test data\n",
    "repeated_in_train = train_val_repeats.union(train_test_repeats)\n",
    "\n",
    "# Removes the rows from the train set where \"text\" is in the training/test repeated entries\n",
    "fakeddit_train = fakeddit_train[~fakeddit_train[\"text\"].isin(repeated_in_train)]"
   ]
  },
  {
   "cell_type": "code",
   "execution_count": 30,
   "id": "ae3f74dd-5d20-4e0c-80cd-4f0ed38c78de",
   "metadata": {},
   "outputs": [],
   "source": [
    "# Now removes all the rows in the validation set where the \"text\" is also in the test set\n",
    "fakeddit_val = fakeddit_val[~fakeddit_val[\"text\"].isin(val_test_repeats)]"
   ]
  },
  {
   "cell_type": "code",
   "execution_count": 31,
   "id": "b31cf0ef-8caa-49e8-80f9-39b8c4313f4f",
   "metadata": {},
   "outputs": [],
   "source": [
    "# Checks all the duplicates have been removed\n",
    "train_val_repeats = set(fakeddit_train[\"text\"]).intersection(set(fakeddit_val[\"text\"]))\n",
    "train_test_repeats = set(fakeddit_train[\"text\"]).intersection(set(fakeddit_test[\"text\"]))\n",
    "val_test_repeats = set(fakeddit_val[\"text\"]).intersection(set(fakeddit_test[\"text\"]))"
   ]
  },
  {
   "cell_type": "code",
   "execution_count": 32,
   "id": "098830fa-daf8-463c-8d16-cf78d4a7a2c6",
   "metadata": {
    "scrolled": true
   },
   "outputs": [
    {
     "name": "stdout",
     "output_type": "stream",
     "text": [
      "0\n",
      "0\n",
      "0\n"
     ]
    }
   ],
   "source": [
    "# Counts the number of remaining repeats\n",
    "print(len(train_val_repeats))\n",
    "print(len(train_test_repeats))\n",
    "print(len(val_test_repeats))"
   ]
  },
  {
   "cell_type": "code",
   "execution_count": 34,
   "id": "92c4e354-bc83-4c0b-b28a-508a6546ca8a",
   "metadata": {},
   "outputs": [
    {
     "name": "stdout",
     "output_type": "stream",
     "text": [
      "761274 81046 92444\n"
     ]
    }
   ],
   "source": [
    "# Cleans the Fakeddit dataframes\n",
    "\n",
    "# First, drops all columns where the column name contains 'Unnamed'\n",
    "fakeddit_train = fakeddit_train.loc[:, ~df.columns.str.contains('^Unnamed')]\n",
    "fakeddit_val = fakeddit_val.loc[:, ~df.columns.str.contains('^Unnamed')]\n",
    "fakeddit_test = fakeddit_test.loc[:, ~df.columns.str.contains('^Unnamed')]\n",
    "\n",
    "print(len(fakeddit_train), len(fakeddit_val), len(fakeddit_test))"
   ]
  },
  {
   "cell_type": "code",
   "execution_count": 35,
   "id": "89019218-9d65-4cb9-bbe4-e61695ee64c9",
   "metadata": {},
   "outputs": [
    {
     "data": {
      "text/html": [
       "<div>\n",
       "<style scoped>\n",
       "    .dataframe tbody tr th:only-of-type {\n",
       "        vertical-align: middle;\n",
       "    }\n",
       "\n",
       "    .dataframe tbody tr th {\n",
       "        vertical-align: top;\n",
       "    }\n",
       "\n",
       "    .dataframe thead th {\n",
       "        text-align: right;\n",
       "    }\n",
       "</style>\n",
       "<table border=\"1\" class=\"dataframe\">\n",
       "  <thead>\n",
       "    <tr style=\"text-align: right;\">\n",
       "      <th></th>\n",
       "      <th>author</th>\n",
       "      <th>clean_title</th>\n",
       "      <th>created_utc</th>\n",
       "      <th>domain</th>\n",
       "      <th>hasImage</th>\n",
       "      <th>id</th>\n",
       "      <th>image_url</th>\n",
       "      <th>linked_submission_id</th>\n",
       "      <th>num_comments</th>\n",
       "      <th>score</th>\n",
       "      <th>subreddit</th>\n",
       "      <th>text</th>\n",
       "      <th>upvote_ratio</th>\n",
       "      <th>label</th>\n",
       "      <th>3_way_label</th>\n",
       "      <th>6_way_label</th>\n",
       "    </tr>\n",
       "  </thead>\n",
       "  <tbody>\n",
       "    <tr>\n",
       "      <th>0</th>\n",
       "      <td>Alexithymia</td>\n",
       "      <td>my walgreens offbrand mucinex was engraved wit...</td>\n",
       "      <td>1.551641e+09</td>\n",
       "      <td>i.imgur.com</td>\n",
       "      <td>True</td>\n",
       "      <td>awxhir</td>\n",
       "      <td>https://external-preview.redd.it/WylDbZrnbvZdB...</td>\n",
       "      <td>NaN</td>\n",
       "      <td>2.0</td>\n",
       "      <td>12</td>\n",
       "      <td>mildlyinteresting</td>\n",
       "      <td>My Walgreens offbrand Mucinex was engraved wit...</td>\n",
       "      <td>0.84</td>\n",
       "      <td>0</td>\n",
       "      <td>0</td>\n",
       "      <td>0</td>\n",
       "    </tr>\n",
       "    <tr>\n",
       "      <th>2</th>\n",
       "      <td>VIDCAs17</td>\n",
       "      <td>this concerned sink with a tiny hat</td>\n",
       "      <td>1.534727e+09</td>\n",
       "      <td>i.redd.it</td>\n",
       "      <td>True</td>\n",
       "      <td>98pbid</td>\n",
       "      <td>https://preview.redd.it/wsfx0gp0f5h11.jpg?widt...</td>\n",
       "      <td>NaN</td>\n",
       "      <td>2.0</td>\n",
       "      <td>119</td>\n",
       "      <td>pareidolia</td>\n",
       "      <td>This concerned sink with a tiny hat</td>\n",
       "      <td>0.99</td>\n",
       "      <td>1</td>\n",
       "      <td>2</td>\n",
       "      <td>2</td>\n",
       "    </tr>\n",
       "    <tr>\n",
       "      <th>3</th>\n",
       "      <td>prometheus1123</td>\n",
       "      <td>hackers leak emails from uae ambassador to us</td>\n",
       "      <td>1.496511e+09</td>\n",
       "      <td>aljazeera.com</td>\n",
       "      <td>True</td>\n",
       "      <td>6f2cy5</td>\n",
       "      <td>https://external-preview.redd.it/6fNhdbc6K1vFA...</td>\n",
       "      <td>NaN</td>\n",
       "      <td>1.0</td>\n",
       "      <td>44</td>\n",
       "      <td>neutralnews</td>\n",
       "      <td>Hackers leak emails from UAE ambassador to US</td>\n",
       "      <td>0.92</td>\n",
       "      <td>0</td>\n",
       "      <td>0</td>\n",
       "      <td>0</td>\n",
       "    </tr>\n",
       "    <tr>\n",
       "      <th>5</th>\n",
       "      <td>NaN</td>\n",
       "      <td>this flower in my neighborhood</td>\n",
       "      <td>1.557764e+09</td>\n",
       "      <td>i.redd.it</td>\n",
       "      <td>False</td>\n",
       "      <td>bo5i67</td>\n",
       "      <td>NaN</td>\n",
       "      <td>NaN</td>\n",
       "      <td>0.0</td>\n",
       "      <td>17</td>\n",
       "      <td>mildlyinteresting</td>\n",
       "      <td>This flower in my neighborhood</td>\n",
       "      <td>0.92</td>\n",
       "      <td>0</td>\n",
       "      <td>0</td>\n",
       "      <td>0</td>\n",
       "    </tr>\n",
       "    <tr>\n",
       "      <th>6</th>\n",
       "      <td>NaN</td>\n",
       "      <td>puppy taking in the view</td>\n",
       "      <td>1.471341e+09</td>\n",
       "      <td>i.imgur.com</td>\n",
       "      <td>True</td>\n",
       "      <td>4xypkv</td>\n",
       "      <td>https://external-preview.redd.it/HLtVNhTR6wtYt...</td>\n",
       "      <td>NaN</td>\n",
       "      <td>26.0</td>\n",
       "      <td>250</td>\n",
       "      <td>photoshopbattles</td>\n",
       "      <td>PsBattle: Puppy taking in the view</td>\n",
       "      <td>0.95</td>\n",
       "      <td>0</td>\n",
       "      <td>0</td>\n",
       "      <td>0</td>\n",
       "    </tr>\n",
       "  </tbody>\n",
       "</table>\n",
       "</div>"
      ],
      "text/plain": [
       "           author                                        clean_title  \\\n",
       "0     Alexithymia  my walgreens offbrand mucinex was engraved wit...   \n",
       "2        VIDCAs17                this concerned sink with a tiny hat   \n",
       "3  prometheus1123      hackers leak emails from uae ambassador to us   \n",
       "5             NaN                     this flower in my neighborhood   \n",
       "6             NaN                           puppy taking in the view   \n",
       "\n",
       "    created_utc         domain  hasImage      id  \\\n",
       "0  1.551641e+09    i.imgur.com      True  awxhir   \n",
       "2  1.534727e+09      i.redd.it      True  98pbid   \n",
       "3  1.496511e+09  aljazeera.com      True  6f2cy5   \n",
       "5  1.557764e+09      i.redd.it     False  bo5i67   \n",
       "6  1.471341e+09    i.imgur.com      True  4xypkv   \n",
       "\n",
       "                                           image_url linked_submission_id  \\\n",
       "0  https://external-preview.redd.it/WylDbZrnbvZdB...                  NaN   \n",
       "2  https://preview.redd.it/wsfx0gp0f5h11.jpg?widt...                  NaN   \n",
       "3  https://external-preview.redd.it/6fNhdbc6K1vFA...                  NaN   \n",
       "5                                                NaN                  NaN   \n",
       "6  https://external-preview.redd.it/HLtVNhTR6wtYt...                  NaN   \n",
       "\n",
       "   num_comments  score          subreddit  \\\n",
       "0           2.0     12  mildlyinteresting   \n",
       "2           2.0    119         pareidolia   \n",
       "3           1.0     44        neutralnews   \n",
       "5           0.0     17  mildlyinteresting   \n",
       "6          26.0    250   photoshopbattles   \n",
       "\n",
       "                                                text  upvote_ratio  label  \\\n",
       "0  My Walgreens offbrand Mucinex was engraved wit...          0.84      0   \n",
       "2                This concerned sink with a tiny hat          0.99      1   \n",
       "3      Hackers leak emails from UAE ambassador to US          0.92      0   \n",
       "5                     This flower in my neighborhood          0.92      0   \n",
       "6                 PsBattle: Puppy taking in the view          0.95      0   \n",
       "\n",
       "   3_way_label  6_way_label  \n",
       "0            0            0  \n",
       "2            2            2  \n",
       "3            0            0  \n",
       "5            0            0  \n",
       "6            0            0  "
      ]
     },
     "execution_count": 35,
     "metadata": {},
     "output_type": "execute_result"
    }
   ],
   "source": [
    "fakeddit_train.head()"
   ]
  },
  {
   "cell_type": "code",
   "execution_count": 36,
   "id": "907b7959-2310-4f4f-ae7d-42e9aaaef167",
   "metadata": {},
   "outputs": [
    {
     "name": "stdout",
     "output_type": "stream",
     "text": [
      "Before data cleaning, this DataFrame had 761274 entries.\n",
      "Missing values in each column:\n",
      "author                  142597\n",
      "clean_title               1041\n",
      "created_utc                  0\n",
      "domain                  136827\n",
      "hasImage                     0\n",
      "id                           0\n",
      "image_url               234328\n",
      "linked_submission_id    624447\n",
      "num_comments            136827\n",
      "score                        0\n",
      "subreddit                    0\n",
      "text                         0\n",
      "upvote_ratio            136827\n",
      "label                        0\n",
      "3_way_label                  0\n",
      "6_way_label                  0\n",
      "dtype: int64\n",
      "This dataset has 761274 rows containing missing values\n",
      "Rows with missing 'text' column:\n",
      "Empty DataFrame\n",
      "Columns: [author, clean_title, created_utc, domain, hasImage, id, image_url, linked_submission_id, num_comments, score, subreddit, text, upvote_ratio, label, 3_way_label, 6_way_label]\n",
      "Index: []\n",
      "After dropping rows with NaN in 'text', the DataFrame has 761274 entries.\n"
     ]
    },
    {
     "name": "stderr",
     "output_type": "stream",
     "text": [
      "\n",
      "00%|████████████████████████████████████████████████████████████████████████████████████████████████████████| 737280/737280 [27:19<00:00, 449.73it/s]"
     ]
    },
    {
     "name": "stdout",
     "output_type": "stream",
     "text": [
      "Columns after applying language detection: ['author', 'clean_title', 'created_utc', 'domain', 'hasImage', 'id', 'image_url', 'linked_submission_id', 'num_comments', 'score', 'subreddit', 'text', 'upvote_ratio', 'label', '3_way_label', '6_way_label', 'is_text_english']\n",
      "There are 89204 rows detected as non-English text.\n",
      "Columns after filtering non-English texts: ['author', 'clean_title', 'created_utc', 'domain', 'hasImage', 'id', 'image_url', 'linked_submission_id', 'num_comments', 'score', 'subreddit', 'text', 'upvote_ratio', 'label', '3_way_label', '6_way_label', 'is_text_english']\n",
      "After cleaning, this DataFrame now has 648076 entries remaining.\n",
      "Before data cleaning, this DataFrame had 81046 entries.\n",
      "Missing values in each column:\n",
      "author                  15180\n",
      "clean_title               130\n",
      "created_utc                 0\n",
      "domain                  14925\n",
      "hasImage                    0\n",
      "id                          0\n",
      "image_url               25006\n",
      "linked_submission_id    66121\n",
      "num_comments            14925\n",
      "score                       0\n",
      "subreddit                   0\n",
      "text                        0\n",
      "upvote_ratio            14925\n",
      "label                       0\n",
      "3_way_label                 0\n",
      "6_way_label                 0\n",
      "dtype: int64\n",
      "This dataset has 81046 rows containing missing values\n",
      "Rows with missing 'text' column:\n",
      "Empty DataFrame\n",
      "Columns: [author, clean_title, created_utc, domain, hasImage, id, image_url, linked_submission_id, num_comments, score, subreddit, text, upvote_ratio, label, 3_way_label, 6_way_label]\n",
      "Index: []\n",
      "After dropping rows with NaN in 'text', the DataFrame has 81046 entries.\n"
     ]
    },
    {
     "name": "stderr",
     "output_type": "stream",
     "text": [
      "\n",
      "00%|██████████████████████████████████████████████████████████████████████████████████████████████████████████| 80571/80571 [03:28<00:00, 385.70it/s]"
     ]
    },
    {
     "name": "stdout",
     "output_type": "stream",
     "text": [
      "Columns after applying language detection: ['author', 'clean_title', 'created_utc', 'domain', 'hasImage', 'id', 'image_url', 'linked_submission_id', 'num_comments', 'score', 'subreddit', 'text', 'upvote_ratio', 'label', '3_way_label', '6_way_label', 'is_text_english']\n",
      "There are 10239 rows detected as non-English text.\n",
      "Columns after filtering non-English texts: ['author', 'clean_title', 'created_utc', 'domain', 'hasImage', 'id', 'image_url', 'linked_submission_id', 'num_comments', 'score', 'subreddit', 'text', 'upvote_ratio', 'label', '3_way_label', '6_way_label', 'is_text_english']\n",
      "After cleaning, this DataFrame now has 70332 entries remaining.\n",
      "Before data cleaning, this DataFrame had 92444 entries.\n",
      "Missing values in each column:\n",
      "author                  15692\n",
      "clean_title              7963\n",
      "created_utc                 0\n",
      "domain                  25311\n",
      "hasImage                    0\n",
      "id                          0\n",
      "image_url               25345\n",
      "linked_submission_id    67133\n",
      "num_comments            25311\n",
      "score                       0\n",
      "subreddit                   0\n",
      "text                     7790\n",
      "upvote_ratio            25311\n",
      "label                       0\n",
      "3_way_label                 0\n",
      "6_way_label                 0\n",
      "dtype: int64\n",
      "This dataset has 92444 rows containing missing values\n",
      "Rows with missing 'text' column:\n",
      "               author clean_title   created_utc domain  hasImage       id  \\\n",
      "2           myternity         NaN  1.497067e+09    NaN      True  diperbi   \n",
      "8      ApiContraption         NaN  1.468386e+09    NaN      True  d5a88bt   \n",
      "9      ApiContraption         NaN  1.463959e+09    NaN      True  d3fpl7v   \n",
      "19           d0pef4ce         NaN  1.442509e+09    NaN      True  cv4urlz   \n",
      "25     ApiContraption         NaN  1.562014e+09    NaN      True  esih6n2   \n",
      "...               ...         ...           ...    ...       ...      ...   \n",
      "92386       saucypony         NaN  1.382973e+09    NaN      True  cd1csgh   \n",
      "92407  ApiContraption         NaN  1.533169e+09    NaN      True  e3g3785   \n",
      "92414           Hronk         NaN  1.537426e+09    NaN      True  e6ayojn   \n",
      "92430  ApiContraption         NaN  1.487624e+09    NaN      True  ddzpzvw   \n",
      "92441  ApiContraption         NaN  1.526137e+09    NaN      True  dyv33ga   \n",
      "\n",
      "                                   image_url linked_submission_id  \\\n",
      "2             http://i.imgur.com/cSIuEVF.jpg               6gc83w   \n",
      "8           http://i.imgur.com/Lq2OUtU%2ejpg               4slg2a   \n",
      "9          https://i.imgur.com/K1qr5Lk%2ejpg               4kl2b7   \n",
      "19            http://i.imgur.com/J2OiW49.jpg               3l81bn   \n",
      "25     https://i.redd.it/rhq076896r731%2ejpg               c7zsdc   \n",
      "...                                      ...                  ...   \n",
      "92386         http://i.imgur.com/yuY5ekr.jpg               1pdd22   \n",
      "92407  https://i.redd.it/h8rsryg4nkd11%2ejpg               93uk5x   \n",
      "92414        https://i.imgur.com/KxxN2ID.jpg               9hcmle   \n",
      "92430       http://i.imgur.com/1fRwgOa%2ejpg               5v749b   \n",
      "92441  https://i.redd.it/zgdhtjritfx01%2ejpg               8iwh0i   \n",
      "\n",
      "       num_comments  score         subreddit text  upvote_ratio  label  \\\n",
      "2               NaN      3  psbattle_artwork  NaN           NaN      1   \n",
      "8               NaN      1  psbattle_artwork  NaN           NaN      1   \n",
      "9               NaN      1  psbattle_artwork  NaN           NaN      1   \n",
      "19              NaN      1  psbattle_artwork  NaN           NaN      1   \n",
      "25              NaN     -3  psbattle_artwork  NaN           NaN      1   \n",
      "...             ...    ...               ...  ...           ...    ...   \n",
      "92386           NaN    -28  psbattle_artwork  NaN           NaN      1   \n",
      "92407           NaN      1  psbattle_artwork  NaN           NaN      1   \n",
      "92414           NaN      6  psbattle_artwork  NaN           NaN      1   \n",
      "92430           NaN      1  psbattle_artwork  NaN           NaN      1   \n",
      "92441           NaN      1  psbattle_artwork  NaN           NaN      1   \n",
      "\n",
      "       3_way_label  6_way_label  \n",
      "2                2            4  \n",
      "8                2            4  \n",
      "9                2            4  \n",
      "19               2            4  \n",
      "25               2            4  \n",
      "...            ...          ...  \n",
      "92386            2            4  \n",
      "92407            2            4  \n",
      "92414            2            4  \n",
      "92430            2            4  \n",
      "92441            2            4  \n",
      "\n",
      "[7790 rows x 16 columns]\n",
      "After dropping rows with NaN in 'text', the DataFrame has 84654 entries.\n"
     ]
    },
    {
     "name": "stderr",
     "output_type": "stream",
     "text": [
      "100%|██████████████████████████████████████████████████████████████████████████████████████████████████████████| 81753/81753 [03:02<00:00, 447.97it/s]"
     ]
    },
    {
     "name": "stdout",
     "output_type": "stream",
     "text": [
      "Columns after applying language detection: ['author', 'clean_title', 'created_utc', 'domain', 'hasImage', 'id', 'image_url', 'linked_submission_id', 'num_comments', 'score', 'subreddit', 'text', 'upvote_ratio', 'label', '3_way_label', '6_way_label', 'is_text_english']\n",
      "There are 10658 rows detected as non-English text.\n",
      "Columns after filtering non-English texts: ['author', 'clean_title', 'created_utc', 'domain', 'hasImage', 'id', 'image_url', 'linked_submission_id', 'num_comments', 'score', 'subreddit', 'text', 'upvote_ratio', 'label', '3_way_label', '6_way_label', 'is_text_english']\n",
      "After cleaning, this DataFrame now has 71095 entries remaining.\n"
     ]
    },
    {
     "name": "stderr",
     "output_type": "stream",
     "text": [
      "\n"
     ]
    }
   ],
   "source": [
    "# Removes rows with missing \"text\" values and non-English entries\n",
    "clean_fakeddit_train = cleanDataFrame(fakeddit_train)\n",
    "clean_fakeddit_val = cleanDataFrame(fakeddit_val)\n",
    "clean_fakeddit_test = cleanDataFrame(fakeddit_test)"
   ]
  },
  {
   "cell_type": "code",
   "execution_count": 37,
   "id": "72f8bb1b-826f-45a6-a414-c29e6c48af93",
   "metadata": {},
   "outputs": [
    {
     "name": "stdout",
     "output_type": "stream",
     "text": [
      "Len training data: 648076\n",
      "Len val data: 70332\n",
      "Len training and validation data: 718408\n",
      "Len test data: 71095\n",
      "Train proportion: 0.8208657851838435\n",
      "Val proportion: 0.08908389201814305\n",
      "Test proportion: 0.09005032279801344\n",
      "Train + val proportion is 0.9099496772019865; test proportion is 0.09005032279801344\n"
     ]
    }
   ],
   "source": [
    "# Prints the split lengths to figure out proportions of split after removing rows\n",
    "len_train = len(clean_fakeddit_train)\n",
    "len_val = len(clean_fakeddit_val)\n",
    "len_test = len(clean_fakeddit_test)\n",
    "len_train_and_val = len(clean_fakeddit_train) + len(clean_fakeddit_val)\n",
    "print(f\"Len training data: {len_train}\")\n",
    "print(f\"Len val data: {len_val}\")\n",
    "print(f\"Len training and validation data: {len_train_and_val}\")\n",
    "print(f\"Len test data: {len_test}\")\n",
    "\n",
    "\n",
    "# Prints the proportion of the splits\n",
    "total_samples = len_train + len_val + len_test\n",
    "proportion_train = len_train / total_samples\n",
    "proportion_val = len_val / total_samples\n",
    "proportion_test = len_test / total_samples\n",
    "print(f\"Train proportion: {proportion_train}\\nVal proportion: {proportion_val}\\nTest proportion: {proportion_test}\")\n",
    "print(f\"Train + val proportion is {proportion_train + proportion_val}; test proportion is {proportion_test}\")"
   ]
  },
  {
   "cell_type": "code",
   "execution_count": 38,
   "id": "26466209-004e-4fbf-812c-87afda200458",
   "metadata": {},
   "outputs": [
    {
     "data": {
      "image/png": "[encoded data removed]",
      "text/plain": [
       "<Figure size 1500x500 with 3 Axes>"
      ]
     },
     "metadata": {},
     "output_type": "display_data"
    }
   ],
   "source": [
    "# Lists the the datasets and their names for plotting again\n",
    "datasets = [clean_fakeddit_train, clean_fakeddit_val, clean_fakeddit_test]\n",
    "dataset_names = [\"Training Set\", \"Validation Set\", \"Test Set\"]\n",
    "\n",
    "# Plots the class distribution for each set side by side\n",
    "plotClassDistributions(datasets, dataset_names)"
   ]
  },
  {
   "cell_type": "code",
   "execution_count": 39,
   "id": "f12fad20-e1c2-47c2-b2fe-db5f2dbeaad7",
   "metadata": {},
   "outputs": [],
   "source": [
    "# Saves the cleaned Fakeddit DataFrames as .csv files\n",
    "clean_fakeddit_train.to_csv(os.path.join(fakeddit_path, \"clean_train.csv\"), index=False)\n",
    "clean_fakeddit_val.to_csv(os.path.join(fakeddit_path, \"clean_val.csv\"), index=False)\n",
    "clean_fakeddit_test.to_csv(os.path.join(fakeddit_path, \"clean_test.csv\"), index=False)"
   ]
  },
  {
   "cell_type": "code",
   "execution_count": 55,
   "id": "c1eea232-dcc6-4ee4-a13e-f78d9d2dc485",
   "metadata": {},
   "outputs": [],
   "source": [
    "# Saves Fakeddit merged validation and test sets, in case they are needed later\n",
    "clean_fakeddit_train_and_val = pd.concat([clean_fakeddit_train, clean_fakeddit_val], ignore_index=True)\n",
    "clean_fakeddit_train_and_val.to_csv(os.path.join(fakeddit_path, \"clean_all_train.csv\"), index=False)"
   ]
  },
  {
   "cell_type": "markdown",
   "id": "34a9bdb8-51f2-4fab-bb32-ba088615a83a",
   "metadata": {},
   "source": [
    "### WELFake Dataset: Visualization of Class Distributions, Splitting the Dataset and Dataset Cleaning"
   ]
  },
  {
   "cell_type": "code",
   "execution_count": 56,
   "id": "41665fa4-2e4a-45f4-9ecb-2d5f88f1bfaa",
   "metadata": {},
   "outputs": [
    {
     "data": {
      "text/html": [
       "<div>\n",
       "<style scoped>\n",
       "    .dataframe tbody tr th:only-of-type {\n",
       "        vertical-align: middle;\n",
       "    }\n",
       "\n",
       "    .dataframe tbody tr th {\n",
       "        vertical-align: top;\n",
       "    }\n",
       "\n",
       "    .dataframe thead th {\n",
       "        text-align: right;\n",
       "    }\n",
       "</style>\n",
       "<table border=\"1\" class=\"dataframe\">\n",
       "  <thead>\n",
       "    <tr style=\"text-align: right;\">\n",
       "      <th></th>\n",
       "      <th>Unnamed: 0</th>\n",
       "      <th>title</th>\n",
       "      <th>text</th>\n",
       "      <th>label</th>\n",
       "    </tr>\n",
       "  </thead>\n",
       "  <tbody>\n",
       "    <tr>\n",
       "      <th>0</th>\n",
       "      <td>0</td>\n",
       "      <td>LAW ENFORCEMENT ON HIGH ALERT Following Threat...</td>\n",
       "      <td>No comment is expected from Barack Obama Membe...</td>\n",
       "      <td>1</td>\n",
       "    </tr>\n",
       "    <tr>\n",
       "      <th>1</th>\n",
       "      <td>1</td>\n",
       "      <td>NaN</td>\n",
       "      <td>Did they post their votes for Hillary already?</td>\n",
       "      <td>1</td>\n",
       "    </tr>\n",
       "    <tr>\n",
       "      <th>2</th>\n",
       "      <td>2</td>\n",
       "      <td>UNBELIEVABLE! OBAMA’S ATTORNEY GENERAL SAYS MO...</td>\n",
       "      <td>Now, most of the demonstrators gathered last ...</td>\n",
       "      <td>1</td>\n",
       "    </tr>\n",
       "    <tr>\n",
       "      <th>3</th>\n",
       "      <td>3</td>\n",
       "      <td>Bobby Jindal, raised Hindu, uses story of Chri...</td>\n",
       "      <td>A dozen politically active pastors came here f...</td>\n",
       "      <td>0</td>\n",
       "    </tr>\n",
       "    <tr>\n",
       "      <th>4</th>\n",
       "      <td>4</td>\n",
       "      <td>SATAN 2: Russia unvelis an image of its terrif...</td>\n",
       "      <td>The RS-28 Sarmat missile, dubbed Satan 2, will...</td>\n",
       "      <td>1</td>\n",
       "    </tr>\n",
       "  </tbody>\n",
       "</table>\n",
       "</div>"
      ],
      "text/plain": [
       "   Unnamed: 0                                              title  \\\n",
       "0           0  LAW ENFORCEMENT ON HIGH ALERT Following Threat...   \n",
       "1           1                                                NaN   \n",
       "2           2  UNBELIEVABLE! OBAMA’S ATTORNEY GENERAL SAYS MO...   \n",
       "3           3  Bobby Jindal, raised Hindu, uses story of Chri...   \n",
       "4           4  SATAN 2: Russia unvelis an image of its terrif...   \n",
       "\n",
       "                                                text  label  \n",
       "0  No comment is expected from Barack Obama Membe...      1  \n",
       "1     Did they post their votes for Hillary already?      1  \n",
       "2   Now, most of the demonstrators gathered last ...      1  \n",
       "3  A dozen politically active pastors came here f...      0  \n",
       "4  The RS-28 Sarmat missile, dubbed Satan 2, will...      1  "
      ]
     },
     "execution_count": 56,
     "metadata": {},
     "output_type": "execute_result"
    }
   ],
   "source": [
    "# Sets up the path to parent dir of this one to load in WELFake dataset from the FPData directory\n",
    "parent_dir = os.path.dirname(os.getcwd()) \n",
    "welfake_path = os.path.join(parent_dir, \"FPData/WELFake\")\n",
    "\n",
    "# The WELFake dataset has not been split yet\n",
    "welfake_df = pd.read_csv(os.path.join(welfake_path, \"welfake.csv\"))\n",
    "welfake_df.head()"
   ]
  },
  {
   "cell_type": "code",
   "execution_count": 57,
   "id": "27f0db93-d3da-4ddc-9309-142918e6501a",
   "metadata": {},
   "outputs": [
    {
     "data": {
      "text/html": [
       "<div>\n",
       "<style scoped>\n",
       "    .dataframe tbody tr th:only-of-type {\n",
       "        vertical-align: middle;\n",
       "    }\n",
       "\n",
       "    .dataframe tbody tr th {\n",
       "        vertical-align: top;\n",
       "    }\n",
       "\n",
       "    .dataframe thead th {\n",
       "        text-align: right;\n",
       "    }\n",
       "</style>\n",
       "<table border=\"1\" class=\"dataframe\">\n",
       "  <thead>\n",
       "    <tr style=\"text-align: right;\">\n",
       "      <th></th>\n",
       "      <th>id</th>\n",
       "      <th>title</th>\n",
       "      <th>text</th>\n",
       "      <th>label</th>\n",
       "    </tr>\n",
       "  </thead>\n",
       "  <tbody>\n",
       "    <tr>\n",
       "      <th>0</th>\n",
       "      <td>0</td>\n",
       "      <td>LAW ENFORCEMENT ON HIGH ALERT Following Threat...</td>\n",
       "      <td>No comment is expected from Barack Obama Membe...</td>\n",
       "      <td>1</td>\n",
       "    </tr>\n",
       "    <tr>\n",
       "      <th>1</th>\n",
       "      <td>1</td>\n",
       "      <td>NaN</td>\n",
       "      <td>Did they post their votes for Hillary already?</td>\n",
       "      <td>1</td>\n",
       "    </tr>\n",
       "    <tr>\n",
       "      <th>2</th>\n",
       "      <td>2</td>\n",
       "      <td>UNBELIEVABLE! OBAMA’S ATTORNEY GENERAL SAYS MO...</td>\n",
       "      <td>Now, most of the demonstrators gathered last ...</td>\n",
       "      <td>1</td>\n",
       "    </tr>\n",
       "    <tr>\n",
       "      <th>3</th>\n",
       "      <td>3</td>\n",
       "      <td>Bobby Jindal, raised Hindu, uses story of Chri...</td>\n",
       "      <td>A dozen politically active pastors came here f...</td>\n",
       "      <td>0</td>\n",
       "    </tr>\n",
       "    <tr>\n",
       "      <th>4</th>\n",
       "      <td>4</td>\n",
       "      <td>SATAN 2: Russia unvelis an image of its terrif...</td>\n",
       "      <td>The RS-28 Sarmat missile, dubbed Satan 2, will...</td>\n",
       "      <td>1</td>\n",
       "    </tr>\n",
       "  </tbody>\n",
       "</table>\n",
       "</div>"
      ],
      "text/plain": [
       "   id                                              title  \\\n",
       "0   0  LAW ENFORCEMENT ON HIGH ALERT Following Threat...   \n",
       "1   1                                                NaN   \n",
       "2   2  UNBELIEVABLE! OBAMA’S ATTORNEY GENERAL SAYS MO...   \n",
       "3   3  Bobby Jindal, raised Hindu, uses story of Chri...   \n",
       "4   4  SATAN 2: Russia unvelis an image of its terrif...   \n",
       "\n",
       "                                                text  label  \n",
       "0  No comment is expected from Barack Obama Membe...      1  \n",
       "1     Did they post their votes for Hillary already?      1  \n",
       "2   Now, most of the demonstrators gathered last ...      1  \n",
       "3  A dozen politically active pastors came here f...      0  \n",
       "4  The RS-28 Sarmat missile, dubbed Satan 2, will...      1  "
      ]
     },
     "execution_count": 57,
     "metadata": {},
     "output_type": "execute_result"
    }
   ],
   "source": [
    "# Replaces the \"Unnamed: 0\" column with \"id\"\n",
    "welfake_df.rename(columns={\"Unnamed: 0\": \"id\"}, inplace=True)\n",
    "welfake_df.head()"
   ]
  },
  {
   "cell_type": "code",
   "execution_count": 58,
   "id": "004ec940-570e-4c3e-b63a-88805acf2080",
   "metadata": {},
   "outputs": [
    {
     "data": {
      "image/png": "[encoded data removed]",
      "text/plain": [
       "<Figure size 800x600 with 1 Axes>"
      ]
     },
     "metadata": {},
     "output_type": "display_data"
    }
   ],
   "source": [
    "def plotSingleClassDistribution(df, name):\n",
    "    \"\"\"\n",
    "    Plots the class distribution of a single DataFrame\n",
    "        Input Parameters:\n",
    "            df (pandas.DataFrame): the DataFrame containing the dataset to visualize class distribution for\n",
    "            name (str): the name of the dataset to plot the title\n",
    "    \"\"\"\n",
    "    # Creates a single matplotlib plot\n",
    "    plt.figure(figsize=(8, 6))\n",
    "    # Creates a countplot showing real and fake news class distribution\n",
    "    sns.countplot(x=\"label\", data=df, hue=\"label\", palette=\"viridis\", legend=False)\n",
    "    # Adds titles\n",
    "    plt.title(f\"Class Distribution in {name}\")\n",
    "    plt.xlabel(\"Label\")\n",
    "    plt.ylabel(\"Counts\")\n",
    "    # Adds x-tick positions and labels\n",
    "    plt.xticks([0, 1], [\"Real News\", \"Fake News\"], rotation=0)\n",
    "    # Improves readability\n",
    "    plt.tight_layout()\n",
    "    plt.show()\n",
    "\n",
    "# Plots class distributions for the WELFake dataset\n",
    "plotSingleClassDistribution(welfake_df, \"WELFake Dataset\")"
   ]
  },
  {
   "cell_type": "code",
   "execution_count": 59,
   "id": "98f8d477-18b2-45a2-951e-a2ffb820e4cd",
   "metadata": {},
   "outputs": [],
   "source": [
    "# Splits the data into training and test (80-20%)\n",
    "train_wf_df, test_wf_df = train_test_split(welfake_df, test_size=0.2, random_state=5) # Use random state for reproducibility\n",
    "\n",
    "# Splits the 80% Training data into 80% Train and 20% Validation\n",
    "train_wf_df, val_wf_df = train_test_split(train_wf_df, test_size=0.2, random_state=5) "
   ]
  },
  {
   "cell_type": "code",
   "execution_count": 60,
   "id": "63c3323d-6cd7-4ecc-996c-90233ee17448",
   "metadata": {},
   "outputs": [
    {
     "name": "stdout",
     "output_type": "stream",
     "text": [
      "Before data cleaning, this DataFrame had 46165 entries.\n",
      "Missing values in each column:\n",
      "id         0\n",
      "title    343\n",
      "text      21\n",
      "label      0\n",
      "dtype: int64\n",
      "This dataset has 364 rows containing missing values\n",
      "Rows with missing 'text' column:\n",
      "          id                                              title text  label\n",
      "17781  17781  Débat Primaire de la Droite : les Français pas...  NaN      1\n",
      "47751  47751  Le top des recherches Google passe en top des ...  NaN      1\n",
      "67781  67781  “Notre batal a coulé” par l’homme qui fait des...  NaN      1\n",
      "46940  46940  La voyante lisait l’avenir dans les cartes ble...  NaN      1\n",
      "3709    3709  110% des Américains assurent qu’ils continuero...  NaN      1\n",
      "45468  45468  La sortie du dernier livre inédit du Gorafi éc...  NaN      1\n",
      "54264  54264            Hillary Clinton en 5 dates >> Le Gorafi  NaN      1\n",
      "37578  37578  New-York – Le lâcher de confettis prévu à Time...  NaN      1\n",
      "6997    6997  Les Américains ne sont plus qu’à quelques heur...  NaN      1\n",
      "40241  40241         Horoscope du 21 novembre 2016 >> Le Gorafi  NaN      1\n",
      "58345  58345  Vendée Globe – Un skipper fait demi-tour après...  NaN      1\n",
      "49031  49031  GuinessBook : 100 millions d’Américains batten...  NaN      1\n",
      "6270    6270  Vladimir Poutine est élu 45e Président des Eta...  NaN      1\n",
      "26324  26324  Les gardes-frontières se mettent en alerte pou...  NaN      1\n",
      "18342  18342  [Vidéo] Découvrez le Gorafi de l’Année 2017 >>...  NaN      1\n",
      "63882  63882  La Corée du Nord annonce avoir envoyé un missi...  NaN      1\n",
      "46383  46383               Donald Trump en 5 dates >> Le Gorafi  NaN      1\n",
      "5612    5612  Des millions d’Américains recherchent massivem...  NaN      1\n",
      "56864  56864  Sur Twitter, Donald Trump se félicite d’avoir ...  NaN      1\n",
      "31711  31711  Primaire – François Fillon se désiste au profi...  NaN      1\n",
      "7083    7083  Gorafi Magazine: Barack Obama « Je vous ai déj...  NaN      1\n",
      "After dropping rows with NaN in 'text', the DataFrame has 46144 entries.\n"
     ]
    },
    {
     "name": "stderr",
     "output_type": "stream",
     "text": [
      "\n",
      "00%|██████████████████████████████████████████████████████████████████████████████████████████████████████████| 41971/41971 [04:35<00:00, 152.32it/s]"
     ]
    },
    {
     "name": "stdout",
     "output_type": "stream",
     "text": [
      "Columns after applying language detection: ['id', 'title', 'text', 'label', 'is_text_english']\n",
      "There are 411 rows detected as non-English text.\n",
      "Columns after filtering non-English texts: ['id', 'title', 'text', 'label', 'is_text_english']\n",
      "After cleaning, this DataFrame now has 41560 entries remaining.\n",
      "Before data cleaning, this DataFrame had 11542 entries.\n",
      "Missing values in each column:\n",
      "id         0\n",
      "title    107\n",
      "text      10\n",
      "label      0\n",
      "dtype: int64\n",
      "This dataset has 117 rows containing missing values\n",
      "Rows with missing 'text' column:\n",
      "          id                                              title text  label\n",
      "64832  64832  Trop essoufflé après avoir cherché ses affaire...  NaN      1\n",
      "8974    8974    Live Soirée présidentielle US 2016 >> Le Gorafi  NaN      1\n",
      "30280  30280  Grand-Prix du Brésil – Romain Grosjean obtient...  NaN      1\n",
      "26898  26898  #NDDL: Pour fêter l’autorisation des travaux, ...  NaN      1\n",
      "65316  65316  Elle met en fuite un braqueur en lui jetant de...  NaN      1\n",
      "59272  59272  SPA : Enfermé depuis trois jours dans une cage...  NaN      1\n",
      "3534    3534  Elections US : les premières estimations donne...  NaN      1\n",
      "50212  50212  Il saoule tout le monde avec son analyse polit...  NaN      1\n",
      "53407  53407  Il se fait cryogéniser dans l’espoir de voir u...  NaN      1\n",
      "45714  45714  La Russie a profité de l’élection américaine p...  NaN      1\n",
      "After dropping rows with NaN in 'text', the DataFrame has 11532 entries.\n"
     ]
    },
    {
     "name": "stderr",
     "output_type": "stream",
     "text": [
      "\n",
      "00%|██████████████████████████████████████████████████████████████████████████████████████████████████████████| 11152/11152 [00:49<00:00, 223.42it/s]"
     ]
    },
    {
     "name": "stdout",
     "output_type": "stream",
     "text": [
      "Columns after applying language detection: ['id', 'title', 'text', 'label', 'is_text_english']\n",
      "There are 93 rows detected as non-English text.\n",
      "Columns after filtering non-English texts: ['id', 'title', 'text', 'label', 'is_text_english']\n",
      "After cleaning, this DataFrame now has 11059 entries remaining.\n",
      "Before data cleaning, this DataFrame had 14427 entries.\n",
      "Missing values in each column:\n",
      "id         0\n",
      "title    108\n",
      "text       8\n",
      "label      0\n",
      "dtype: int64\n",
      "This dataset has 116 rows containing missing values\n",
      "Rows with missing 'text' column:\n",
      "          id                                              title text  label\n",
      "54258  54258  Pour booster les ventes, Dassault offre un por...  NaN      1\n",
      "48677  48677  Donald Trump s’excuse pour toutes les minorité...  NaN      1\n",
      "44166  44166  La Trump Tower cambriolée – les voleurs seraie...  NaN      1\n",
      "24076  24076  Heureux et souriant, il a la chance de toujour...  NaN      1\n",
      "59436  59436  Gorafi Magazine : Entretien exclusif avec Bara...  NaN      1\n",
      "35933  35933  «Pourquoi je suis candidat à la présidentielle...  NaN      1\n",
      "2457    2457  Après le succès de « Mariés au premier regard ...  NaN      1\n",
      "16717  16717  Ne supportant plus l’ambiance de la campagne é...  NaN      1\n",
      "After dropping rows with NaN in 'text', the DataFrame has 14419 entries.\n"
     ]
    },
    {
     "name": "stderr",
     "output_type": "stream",
     "text": [
      "\n",
      "00%|██████████████████████████████████████████████████████████████████████████████████████████████████████████| 13826/13826 [01:03<00:00, 216.98it/s]"
     ]
    },
    {
     "name": "stdout",
     "output_type": "stream",
     "text": [
      "Columns after applying language detection: ['id', 'title', 'text', 'label', 'is_text_english']\n",
      "There are 120 rows detected as non-English text.\n",
      "Columns after filtering non-English texts: ['id', 'title', 'text', 'label', 'is_text_english']\n",
      "After cleaning, this DataFrame now has 13706 entries remaining.\n"
     ]
    }
   ],
   "source": [
    "# Cleans the WELFake DataFrames\n",
    "clean_wf_train = cleanDataFrame(train_wf_df)\n",
    "clean_wf_val = cleanDataFrame(val_wf_df)\n",
    "clean_wf_test = cleanDataFrame(test_wf_df)"
   ]
  },
  {
   "cell_type": "code",
   "execution_count": 61,
   "id": "1493858f-936f-48c9-9dec-d64402d236eb",
   "metadata": {},
   "outputs": [],
   "source": [
    "# Saves the cleaned, preprocessed datasets to .csv files\n",
    "clean_wf_train.to_csv(os.path.join(welfake_path, \"clean_train_wf.csv\"), index=False)\n",
    "clean_wf_val.to_csv(os.path.join(welfake_path, \"clean_val_wf.csv\"), index=False)\n",
    "clean_wf_test.to_csv(os.path.join(welfake_path, \"clean_test_wf.csv\"), index=False)"
   ]
  },
  {
   "cell_type": "code",
   "execution_count": 62,
   "id": "668cfbc3-4b03-4b37-8a6b-174f94c34e27",
   "metadata": {},
   "outputs": [],
   "source": [
    "# Saves combined training and validation set if needed later too\n",
    "clean_wf_train_and_val = pd.concat([clean_wf_train, clean_wf_val], ignore_index=True)\n",
    "clean_wf_train_and_val.to_csv(os.path.join(welfake_path, \"clean_all_train_wf.csv\"), index=False)"
   ]
  },
  {
   "cell_type": "markdown",
   "id": "3fc20cfa-74a8-4f4a-85af-f8892de527eb",
   "metadata": {},
   "source": [
    "### PolitiFact Dataset: Visualization of Class Distributions, Splitting the Dataset and Dataset Cleaning"
   ]
  },
  {
   "cell_type": "code",
   "execution_count": 63,
   "id": "fb94268d-4fb9-49fb-8e9b-2a4f2508adf6",
   "metadata": {},
   "outputs": [
    {
     "data": {
      "text/html": [
       "<div>\n",
       "<style scoped>\n",
       "    .dataframe tbody tr th:only-of-type {\n",
       "        vertical-align: middle;\n",
       "    }\n",
       "\n",
       "    .dataframe tbody tr th {\n",
       "        vertical-align: top;\n",
       "    }\n",
       "\n",
       "    .dataframe thead th {\n",
       "        text-align: right;\n",
       "    }\n",
       "</style>\n",
       "<table border=\"1\" class=\"dataframe\">\n",
       "  <thead>\n",
       "    <tr style=\"text-align: right;\">\n",
       "      <th></th>\n",
       "      <th>id</th>\n",
       "      <th>text</th>\n",
       "      <th>label</th>\n",
       "    </tr>\n",
       "  </thead>\n",
       "  <tbody>\n",
       "    <tr>\n",
       "      <th>0</th>\n",
       "      <td>politifact1026</td>\n",
       "      <td>House GOP Introduces Keep Terrorists Out of Am...</td>\n",
       "      <td>0</td>\n",
       "    </tr>\n",
       "    <tr>\n",
       "      <th>1</th>\n",
       "      <td>politifact10209</td>\n",
       "      <td>Follow @pollreport CONGRESS – Job Rating See a...</td>\n",
       "      <td>0</td>\n",
       "    </tr>\n",
       "    <tr>\n",
       "      <th>2</th>\n",
       "      <td>politifact1013</td>\n",
       "      <td>Roll Call Vote 111th Congress - 1st Session\\n\\...</td>\n",
       "      <td>0</td>\n",
       "    </tr>\n",
       "    <tr>\n",
       "      <th>3</th>\n",
       "      <td>politifact1027</td>\n",
       "      <td>'); //--&gt; E-mail | Print | Comments | Request ...</td>\n",
       "      <td>0</td>\n",
       "    </tr>\n",
       "    <tr>\n",
       "      <th>4</th>\n",
       "      <td>politifact10332</td>\n",
       "      <td>About This Show\\n\\nFrom the country’s major po...</td>\n",
       "      <td>0</td>\n",
       "    </tr>\n",
       "  </tbody>\n",
       "</table>\n",
       "</div>"
      ],
      "text/plain": [
       "                id                                               text  label\n",
       "0   politifact1026  House GOP Introduces Keep Terrorists Out of Am...      0\n",
       "1  politifact10209  Follow @pollreport CONGRESS – Job Rating See a...      0\n",
       "2   politifact1013  Roll Call Vote 111th Congress - 1st Session\\n\\...      0\n",
       "3   politifact1027  '); //--> E-mail | Print | Comments | Request ...      0\n",
       "4  politifact10332  About This Show\\n\\nFrom the country’s major po...      0"
      ]
     },
     "execution_count": 63,
     "metadata": {},
     "output_type": "execute_result"
    }
   ],
   "source": [
    "# Sets up the path to the PolitiFact dataset\n",
    "parent_dir = os.path.dirname(os.getcwd())\n",
    "politifact_path = os.path.join(parent_dir, \"FPData/PolitiFact\")\n",
    "politifact_df = pd.read_csv(os.path.join(politifact_path, \"politifact.csv\"))\n",
    "# Visualizes the first few rows of the PolitiFact dataset\n",
    "politifact_df.head()"
   ]
  },
  {
   "cell_type": "code",
   "execution_count": 64,
   "id": "00954073-33a4-4b34-ae85-4ad6099ce7bb",
   "metadata": {},
   "outputs": [
    {
     "data": {
      "image/png": "[encoded data removed]",
      "text/plain": [
       "<Figure size 800x600 with 1 Axes>"
      ]
     },
     "metadata": {},
     "output_type": "display_data"
    }
   ],
   "source": [
    "# Creates class distribution plots for the PolitiFact dataset\n",
    "plotSingleClassDistribution(politifact_df, \"PolitiFact Dataset\")"
   ]
  },
  {
   "cell_type": "code",
   "execution_count": 66,
   "id": "bba3a803-2957-42f0-9f5f-cd742a32caec",
   "metadata": {},
   "outputs": [],
   "source": [
    "# Splits the PolitiFact data into training and test (80%-20%)\n",
    "train_pf_df, test_pf_df = train_test_split(politifact_df, test_size=0.2, random_state=5)\n",
    "\n",
    "# Splits 80% training data into 80% train and 20% validation\n",
    "train_pf_df, val_pf_df = train_test_split(train_pf_df, test_size=0.2, random_state=5)"
   ]
  },
  {
   "cell_type": "code",
   "execution_count": 67,
   "id": "504be7b1-3baf-48da-9025-aa8139e4ffe3",
   "metadata": {},
   "outputs": [
    {
     "name": "stdout",
     "output_type": "stream",
     "text": [
      "Before data cleaning, this DataFrame had 472 entries.\n",
      "Missing values in each column:\n",
      "id       0\n",
      "text     0\n",
      "label    0\n",
      "dtype: int64\n",
      "This dataset has 0 rows containing missing values\n",
      "Rows with missing 'text' column:\n",
      "Empty DataFrame\n",
      "Columns: [id, text, label]\n",
      "Index: []\n",
      "After dropping rows with NaN in 'text', the DataFrame has 472 entries.\n"
     ]
    },
    {
     "name": "stderr",
     "output_type": "stream",
     "text": [
      "\n",
      "00%|██████████████████████████████████████████████████████████████████████████████████████████████████████████████| 439/439 [00:02<00:00, 172.17it/s]"
     ]
    },
    {
     "name": "stdout",
     "output_type": "stream",
     "text": [
      "Columns after applying language detection: ['id', 'text', 'label', 'is_text_english']\n",
      "There are 3 rows detected as non-English text.\n",
      "Columns after filtering non-English texts: ['id', 'text', 'label', 'is_text_english']\n",
      "After cleaning, this DataFrame now has 436 entries remaining.\n",
      "Before data cleaning, this DataFrame had 118 entries.\n",
      "Missing values in each column:\n",
      "id       0\n",
      "text     0\n",
      "label    0\n",
      "dtype: int64\n",
      "This dataset has 0 rows containing missing values\n",
      "Rows with missing 'text' column:\n",
      "Empty DataFrame\n",
      "Columns: [id, text, label]\n",
      "Index: []\n",
      "After dropping rows with NaN in 'text', the DataFrame has 118 entries.\n"
     ]
    },
    {
     "name": "stderr",
     "output_type": "stream",
     "text": [
      "\n",
      "00%|██████████████████████████████████████████████████████████████████████████████████████████████████████████████| 115/115 [00:00<00:00, 187.39it/s]"
     ]
    },
    {
     "name": "stdout",
     "output_type": "stream",
     "text": [
      "Columns after applying language detection: ['id', 'text', 'label', 'is_text_english']\n",
      "There are 0 rows detected as non-English text.\n",
      "Columns after filtering non-English texts: ['id', 'text', 'label', 'is_text_english']\n",
      "After cleaning, this DataFrame now has 115 entries remaining.\n",
      "Before data cleaning, this DataFrame had 148 entries.\n",
      "Missing values in each column:\n",
      "id       0\n",
      "text     0\n",
      "label    0\n",
      "dtype: int64\n",
      "This dataset has 0 rows containing missing values\n",
      "Rows with missing 'text' column:\n",
      "Empty DataFrame\n",
      "Columns: [id, text, label]\n",
      "Index: []\n",
      "After dropping rows with NaN in 'text', the DataFrame has 148 entries.\n"
     ]
    },
    {
     "name": "stderr",
     "output_type": "stream",
     "text": [
      "100%|██████████████████████████████████████████████████████████████████████████████████████████████████████████████| 141/141 [00:00<00:00, 180.56it/s]"
     ]
    },
    {
     "name": "stdout",
     "output_type": "stream",
     "text": [
      "Columns after applying language detection: ['id', 'text', 'label', 'is_text_english']\n",
      "There are 1 rows detected as non-English text.\n",
      "Columns after filtering non-English texts: ['id', 'text', 'label', 'is_text_english']\n",
      "After cleaning, this DataFrame now has 140 entries remaining.\n"
     ]
    },
    {
     "name": "stderr",
     "output_type": "stream",
     "text": [
      "\n"
     ]
    }
   ],
   "source": [
    "# Cleans the PolitiFact DataFrames\n",
    "clean_pf_train = cleanDataFrame(train_pf_df)\n",
    "clean_pf_val = cleanDataFrame(val_pf_df)\n",
    "clean_pf_test = cleanDataFrame(test_pf_df)"
   ]
  },
  {
   "cell_type": "code",
   "execution_count": 79,
   "id": "13e29cc8-9a7d-4ec1-ace6-3f30b34a6fb1",
   "metadata": {},
   "outputs": [],
   "source": [
    "# Saves the cleaned PolitiFact datasets to .csv files\n",
    "clean_pf_train.to_csv(os.path.join(politifact_path, \"clean_train_pf.csv\"), index=False)\n",
    "clean_pf_val.to_csv(os.path.join(politifact_path, \"clean_val_pf.csv\"), index=False)\n",
    "clean_pf_test.to_csv(os.path.join(politifact_path, \"clean_test_pf.csv\"), index=False)"
   ]
  },
  {
   "cell_type": "code",
   "execution_count": 80,
   "id": "813c5ff6-b509-4ec1-acf4-c19ac22a4d75",
   "metadata": {},
   "outputs": [],
   "source": [
    "# Saves the combined training and validation set to a .csv file\n",
    "clean_pf_train_and_val = pd.concat([clean_pf_train, clean_pf_val], ignore_index=True)\n",
    "clean_pf_train_and_val.to_csv(os.path.join(politifact_path, \"clean_all_train_pf.csv\"), index=False)"
   ]
  },
  {
   "cell_type": "markdown",
   "id": "9e77d7b6-5854-4eae-9e81-7e6d1977cd3c",
   "metadata": {},
   "source": [
    "# GossipCop"
   ]
  },
  {
   "cell_type": "code",
   "execution_count": 70,
   "id": "f433a88b-ed70-471c-9236-05ddd76c92e6",
   "metadata": {},
   "outputs": [
    {
     "data": {
      "text/html": [
       "<div>\n",
       "<style scoped>\n",
       "    .dataframe tbody tr th:only-of-type {\n",
       "        vertical-align: middle;\n",
       "    }\n",
       "\n",
       "    .dataframe tbody tr th {\n",
       "        vertical-align: top;\n",
       "    }\n",
       "\n",
       "    .dataframe thead th {\n",
       "        text-align: right;\n",
       "    }\n",
       "</style>\n",
       "<table border=\"1\" class=\"dataframe\">\n",
       "  <thead>\n",
       "    <tr style=\"text-align: right;\">\n",
       "      <th></th>\n",
       "      <th>id</th>\n",
       "      <th>text</th>\n",
       "      <th>label</th>\n",
       "    </tr>\n",
       "  </thead>\n",
       "  <tbody>\n",
       "    <tr>\n",
       "      <th>0</th>\n",
       "      <td>gossipcop-947657</td>\n",
       "      <td>shen-yun-2010.jpg\\n\\nShen Yun in a performance...</td>\n",
       "      <td>0</td>\n",
       "    </tr>\n",
       "    <tr>\n",
       "      <th>1</th>\n",
       "      <td>gossipcop-947709</td>\n",
       "      <td>Queen Elizabeth II had to cancel her visit to ...</td>\n",
       "      <td>0</td>\n",
       "    </tr>\n",
       "    <tr>\n",
       "      <th>2</th>\n",
       "      <td>gossipcop-947717</td>\n",
       "      <td>It might be Khloé Kardashian‘s birthday, but i...</td>\n",
       "      <td>0</td>\n",
       "    </tr>\n",
       "    <tr>\n",
       "      <th>3</th>\n",
       "      <td>gossipcop-947679</td>\n",
       "      <td>For years, I used nothing but heavy foundation...</td>\n",
       "      <td>0</td>\n",
       "    </tr>\n",
       "    <tr>\n",
       "      <th>4</th>\n",
       "      <td>gossipcop-947671</td>\n",
       "      <td>George Clooney’s friendship with Brad Pitt all...</td>\n",
       "      <td>0</td>\n",
       "    </tr>\n",
       "  </tbody>\n",
       "</table>\n",
       "</div>"
      ],
      "text/plain": [
       "                 id                                               text  label\n",
       "0  gossipcop-947657  shen-yun-2010.jpg\\n\\nShen Yun in a performance...      0\n",
       "1  gossipcop-947709  Queen Elizabeth II had to cancel her visit to ...      0\n",
       "2  gossipcop-947717  It might be Khloé Kardashian‘s birthday, but i...      0\n",
       "3  gossipcop-947679  For years, I used nothing but heavy foundation...      0\n",
       "4  gossipcop-947671  George Clooney’s friendship with Brad Pitt all...      0"
      ]
     },
     "execution_count": 70,
     "metadata": {},
     "output_type": "execute_result"
    }
   ],
   "source": [
    "# Sets up the path to the GossipCop dataset\n",
    "parent_dir = os.path.dirname(os.getcwd())\n",
    "gossipcop_path = os.path.join(parent_dir, \"FPData/GossipCop\")\n",
    "gossipcop_df = pd.read_csv(os.path.join(gossipcop_path, \"gossipcop.csv\"))\n",
    "\n",
    "# Displays the first few lines of the dataset\n",
    "gossipcop_df.head()"
   ]
  },
  {
   "cell_type": "code",
   "execution_count": 71,
   "id": "ac0f25d9-f055-4ee4-a5c0-062403d744f3",
   "metadata": {},
   "outputs": [
    {
     "data": {
      "image/png": "[encoded data removed]",
      "text/plain": [
       "<Figure size 800x600 with 1 Axes>"
      ]
     },
     "metadata": {},
     "output_type": "display_data"
    }
   ],
   "source": [
    "# Plots GossipCop class distribution\n",
    "plotSingleClassDistribution(gossipcop_df, \"GossipCop Dataset\")"
   ]
  },
  {
   "cell_type": "code",
   "execution_count": 72,
   "id": "f445c881-182d-418a-800d-41832910e9af",
   "metadata": {},
   "outputs": [],
   "source": [
    "# Splits the GossipCop data into training and test sets (80-20)\n",
    "train_gc_df, test_gc_df = train_test_split(gossipcop_df, test_size=0.2, random_state=5)# For reproducibility\n",
    "\n",
    "# Split the 80% training data into 80% train and 20% validation sets\n",
    "train_gc_df, val_gc_df = train_test_split(train_gc_df, test_size=0.2, random_state=5) # For reproducibility"
   ]
  },
  {
   "cell_type": "code",
   "execution_count": 73,
   "id": "d94a5128-b29b-4b08-8577-1c29e8889c79",
   "metadata": {},
   "outputs": [
    {
     "name": "stdout",
     "output_type": "stream",
     "text": [
      "Before data cleaning, this DataFrame had 12401 entries.\n",
      "Missing values in each column:\n",
      "id       0\n",
      "text     0\n",
      "label    0\n",
      "dtype: int64\n",
      "This dataset has 0 rows containing missing values\n",
      "Rows with missing 'text' column:\n",
      "Empty DataFrame\n",
      "Columns: [id, text, label]\n",
      "Index: []\n",
      "After dropping rows with NaN in 'text', the DataFrame has 12401 entries.\n"
     ]
    },
    {
     "name": "stderr",
     "output_type": "stream",
     "text": [
      "\n",
      "00%|██████████████████████████████████████████████████████████████████████████████████████████████████████████| 11059/11059 [00:47<00:00, 232.53it/s]"
     ]
    },
    {
     "name": "stdout",
     "output_type": "stream",
     "text": [
      "Columns after applying language detection: ['id', 'text', 'label', 'is_text_english']\n",
      "There are 17 rows detected as non-English text.\n",
      "Columns after filtering non-English texts: ['id', 'text', 'label', 'is_text_english']\n",
      "After cleaning, this DataFrame now has 11042 entries remaining.\n",
      "Before data cleaning, this DataFrame had 3101 entries.\n",
      "Missing values in each column:\n",
      "id       0\n",
      "text     0\n",
      "label    0\n",
      "dtype: int64\n",
      "This dataset has 0 rows containing missing values\n",
      "Rows with missing 'text' column:\n",
      "Empty DataFrame\n",
      "Columns: [id, text, label]\n",
      "Index: []\n",
      "After dropping rows with NaN in 'text', the DataFrame has 3101 entries.\n"
     ]
    },
    {
     "name": "stderr",
     "output_type": "stream",
     "text": [
      "\n",
      "00%|████████████████████████████████████████████████████████████████████████████████████████████████████████████| 2936/2936 [00:12<00:00, 233.48it/s]"
     ]
    },
    {
     "name": "stdout",
     "output_type": "stream",
     "text": [
      "Columns after applying language detection: ['id', 'text', 'label', 'is_text_english']\n",
      "There are 4 rows detected as non-English text.\n",
      "Columns after filtering non-English texts: ['id', 'text', 'label', 'is_text_english']\n",
      "After cleaning, this DataFrame now has 2932 entries remaining.\n",
      "Before data cleaning, this DataFrame had 3876 entries.\n",
      "Missing values in each column:\n",
      "id       0\n",
      "text     0\n",
      "label    0\n",
      "dtype: int64\n",
      "This dataset has 0 rows containing missing values\n",
      "Rows with missing 'text' column:\n",
      "Empty DataFrame\n",
      "Columns: [id, text, label]\n",
      "Index: []\n",
      "After dropping rows with NaN in 'text', the DataFrame has 3876 entries.\n"
     ]
    },
    {
     "name": "stderr",
     "output_type": "stream",
     "text": [
      "\n",
      "00%|████████████████████████████████████████████████████████████████████████████████████████████████████████████| 3624/3624 [00:15<00:00, 230.62it/s]"
     ]
    },
    {
     "name": "stdout",
     "output_type": "stream",
     "text": [
      "Columns after applying language detection: ['id', 'text', 'label', 'is_text_english']\n",
      "There are 6 rows detected as non-English text.\n",
      "Columns after filtering non-English texts: ['id', 'text', 'label', 'is_text_english']\n",
      "After cleaning, this DataFrame now has 3618 entries remaining.\n"
     ]
    }
   ],
   "source": [
    "# Cleans the GossipCop DataFrames\n",
    "clean_gc_train = cleanDataFrame(train_gc_df)\n",
    "clean_gc_val = cleanDataFrame(val_gc_df) \n",
    "clean_gc_test = cleanDataFrame(test_gc_df)"
   ]
  },
  {
   "cell_type": "code",
   "execution_count": 77,
   "id": "c882dbdf-1fa4-41fc-8e34-74c0c87bda41",
   "metadata": {},
   "outputs": [],
   "source": [
    "# Saves the GossipCop datasets to .csv files\n",
    "clean_gc_train.to_csv(os.path.join(gossipcop_path, \"clean_train_gc.csv\"), index=False)\n",
    "clean_gc_val.to_csv(os.path.join(gossipcop_path, \"clean_val_gc.csv\"), index=False)\n",
    "clean_gc_test.to_csv(os.path.join(gossipcop_path, \"clean_test_gc.csv\"), index=False)"
   ]
  },
  {
   "cell_type": "code",
   "execution_count": 78,
   "id": "f3d17423-d027-40db-8b7b-a98d543efbf0",
   "metadata": {},
   "outputs": [],
   "source": [
    "# Saves the combined training and validation GossipCop dataset to a .csv file\n",
    "clean_gc_train_and_val = pd.concat([clean_gc_train, clean_gc_val], ignore_index=True)\n",
    "clean_gc_train_and_val.to_csv(os.path.join(gossipcop_path, \"clean_all_train_gc.csv\"), index=False)"
   ]
  }
 ],
 "metadata": {
  "kernelspec": {
   "display_name": "Python 3 (ipykernel)",
   "language": "python",
   "name": "python3"
  },
  "language_info": {
   "codemirror_mode": {
    "name": "ipython",
    "version": 3
   },
   "file_extension": ".py",
   "mimetype": "text/x-python",
   "name": "python",
   "nbconvert_exporter": "python",
   "pygments_lexer": "ipython3",
   "version": "3.9.6"
  }
 },
 "nbformat": 4,
 "nbformat_minor": 5
}
